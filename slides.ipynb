{
 "cells": [
  {
   "cell_type": "markdown",
   "id": "1dc61d36",
   "metadata": {
    "slideshow": {
     "slide_type": "slide"
    }
   },
   "source": [
    "# Who: Andrei Olariu\n",
    "## Stone Soup Technology\n",
    "<br/>\n",
    "<br/>\n",
    "\n",
    "\n",
    "# What: Matching Journalists with Domain Experts\n",
    "## Text Classification with BERT and Gradient Boosting Trees from Idea to Production"
   ]
  },
  {
   "cell_type": "markdown",
   "id": "a954ba3b",
   "metadata": {
    "slideshow": {
     "slide_type": "slide"
    }
   },
   "source": [
    "- intro on me and StoneSoup\n",
    "\n",
    "- describing the client and his problem\n",
    "\n",
    "- baseline approach\n",
    "\n",
    "- Machine Learning approach\n",
    "\n",
    "- discussion"
   ]
  },
  {
   "cell_type": "markdown",
   "id": "b4a41beb",
   "metadata": {
    "slideshow": {
     "slide_type": "slide"
    }
   },
   "source": [
    "<figure style=\"display: table; margin: 0 auto\">\n",
    "  <center>\n",
    "    <img src=\"images/sst.png\" width=\"800vmin\" style=\"padding: 0 0 0 0\">\n",
    "  </center>\n",
    "</figure>"
   ]
  },
  {
   "cell_type": "markdown",
   "id": "bbe72eb5",
   "metadata": {
    "slideshow": {
     "slide_type": "slide"
    }
   },
   "source": [
    "<figure style=\"display: table; margin: 0 auto\">\n",
    "  <center>\n",
    "    <img src=\"images/andrei.jpg\" width=\"1200vmin\" style=\"padding: 4vmin 0 0 0\">\n",
    "  </center>\n",
    "</figure>"
   ]
  },
  {
   "cell_type": "markdown",
   "id": "8d331126",
   "metadata": {
    "slideshow": {
     "slide_type": "notes"
    }
   },
   "source": [
    "that's me during the pandemic\n",
    "\n",
    "phd in natural language processing\n",
    "\n",
    "3 top 10 finishes in kaggle contests\n",
    "\n",
    "at sst, involved in backend, api and ml work"
   ]
  },
  {
   "cell_type": "markdown",
   "id": "8941c38a",
   "metadata": {
    "slideshow": {
     "slide_type": "slide"
    }
   },
   "source": [
    " "
   ]
  },
  {
   "cell_type": "markdown",
   "id": "f55b50b8",
   "metadata": {
    "slideshow": {
     "slide_type": "notes"
    }
   },
   "source": [
    "now you have more context on me and the company I work at\n",
    "\n",
    "unfortunately, I don't know a lot about you, so I had to prepare this workshop making some assumptions\n",
    "\n",
    "if you have experience with something and you find some things trivial, then just breath in, breath out, enjoy the moment and bask in your awesomeness\n",
    "\n",
    "don't wait till the end for questions"
   ]
  },
  {
   "cell_type": "markdown",
   "id": "0a5a015b",
   "metadata": {
    "slideshow": {
     "slide_type": "fragment"
    }
   },
   "source": [
    "# Assumptions\n",
    "\n",
    "- no/little knowledge of Python\n",
    "- no/little experience building and deploying Machine Learning models\n",
    "\n",
    "# Feel free to interrupt me and ask questions"
   ]
  },
  {
   "cell_type": "markdown",
   "id": "63afaf41",
   "metadata": {
    "slideshow": {
     "slide_type": "slide"
    }
   },
   "source": [
    "<figure style=\"display: table; margin: 0 auto\">\n",
    "  <center>\n",
    "    <img src=\"images/guidedpr.png\" width=\"1200vmin\" style=\"padding: 4vmin 0 0 0\">\n",
    "  </center>\n",
    "</figure>"
   ]
  },
  {
   "cell_type": "markdown",
   "id": "3270f3e0",
   "metadata": {
    "slideshow": {
     "slide_type": "slide"
    }
   },
   "source": [
    "We have a database of members, with a short description for each\n",
    "\n",
    "<figure style=\"display: table; margin: 0 auto\">\n",
    "  <center>\n",
    "    <img src=\"images/brad.png\" width=\"1200vmin\" style=\"padding: 4vmin 0 0 0\">\n",
    "  </center>\n",
    "</figure>"
   ]
  },
  {
   "cell_type": "markdown",
   "id": "25de7125",
   "metadata": {
    "slideshow": {
     "slide_type": "slide"
    }
   },
   "source": [
    "We have new requests coming in from journalists and we want to identify the best matching members\n",
    "\n",
    "<figure style=\"display: table; margin: 0 auto\">\n",
    "  <center>\n",
    "    <img src=\"images/request1.png\" width=\"1200vmin\" style=\"padding: 4vmin 0 0 0\">\n",
    "  </center>\n",
    "</figure>"
   ]
  },
  {
   "cell_type": "markdown",
   "id": "7bdc8c58",
   "metadata": {
    "slideshow": {
     "slide_type": "slide"
    }
   },
   "source": [
    "What do you think?\n",
    "\n",
    "How can we approach this problem?"
   ]
  },
  {
   "cell_type": "markdown",
   "id": "8849544e",
   "metadata": {
    "slideshow": {
     "slide_type": "fragment"
    }
   },
   "source": [
    "We need a baseline approach. It needs to be:\n",
    "\n",
    "- easy to implement\n",
    "\n",
    "- easy to explain/understand/debug\n",
    "\n",
    "- predictable\n",
    "\n",
    "- independent of training data"
   ]
  },
  {
   "cell_type": "markdown",
   "id": "77091b0f",
   "metadata": {
    "slideshow": {
     "slide_type": "notes"
    }
   },
   "source": [
    "Cmon, let's hear some ideas\n",
    "\n",
    "actively thinking about a solution will stimulate the creation of new neural paths inside your brain, making you better problem solvers\n",
    "\n",
    "i swear I'm not moving forward until I get another idea"
   ]
  },
  {
   "cell_type": "markdown",
   "id": "604a3143",
   "metadata": {
    "slideshow": {
     "slide_type": "slide"
    }
   },
   "source": [
    "Our baseline approach:\n",
    "\n",
    "- index the members' descriptions using a search engine (Solr)\n",
    "\n",
    "- given a request, send it to the search engine as the query and get the highest ranking members\n",
    "\n",
    "- **have a moderator review and correct the matches**\n",
    "\n",
    "- send updated matches to the journalist"
   ]
  },
  {
   "cell_type": "markdown",
   "id": "38cae3c1",
   "metadata": {
    "slideshow": {
     "slide_type": "notes"
    }
   },
   "source": [
    "notice the third step (hard not to)\n",
    "\n",
    "we don't trust the current approach - and it's right so, we haven't evaluated it\n",
    "\n",
    "we are also building a manually annotated dataset to train a ML model"
   ]
  },
  {
   "cell_type": "code",
   "execution_count": 3,
   "id": "4ddf2ab7",
   "metadata": {
    "slideshow": {
     "slide_type": "slide"
    }
   },
   "outputs": [],
   "source": [
    "import pickle\n",
    "\n",
    "with open('matches.pickle', 'rb') as f:\n",
    "    matches = pickle.loads(f.read())"
   ]
  },
  {
   "cell_type": "code",
   "execution_count": 4,
   "id": "3e2191eb",
   "metadata": {
    "slideshow": {
     "slide_type": "fragment"
    }
   },
   "outputs": [
    {
     "data": {
      "text/plain": [
       "39375"
      ]
     },
     "execution_count": 4,
     "metadata": {},
     "output_type": "execute_result"
    }
   ],
   "source": [
    "len(matches)"
   ]
  },
  {
   "cell_type": "code",
   "execution_count": 5,
   "id": "a4244665",
   "metadata": {
    "slideshow": {
     "slide_type": "fragment"
    }
   },
   "outputs": [
    {
     "data": {
      "text/plain": [
       "{'member_id': 113,\n",
       " 'request_id': 28552,\n",
       " 'mismatch': False,\n",
       " 'auto_generated': True}"
      ]
     },
     "execution_count": 5,
     "metadata": {},
     "output_type": "execute_result"
    }
   ],
   "source": [
    "matches[0]"
   ]
  },
  {
   "cell_type": "code",
   "execution_count": 6,
   "id": "d71ecf32",
   "metadata": {
    "slideshow": {
     "slide_type": "fragment"
    }
   },
   "outputs": [
    {
     "data": {
      "text/plain": [
       "{'member_id': 'Andrei',\n",
       " 'request_id': 'Codiax',\n",
       " 'mismatch': True,\n",
       " 'auto_generated': False,\n",
       " 'message': 'remove this from the matches list'}"
      ]
     },
     "execution_count": 6,
     "metadata": {},
     "output_type": "execute_result"
    }
   ],
   "source": [
    "matches[-1]"
   ]
  },
  {
   "cell_type": "code",
   "execution_count": 7,
   "id": "6920e1f5",
   "metadata": {
    "slideshow": {
     "slide_type": "fragment"
    }
   },
   "outputs": [],
   "source": [
    "matches = matches[:-1]"
   ]
  },
  {
   "cell_type": "code",
   "execution_count": 27,
   "id": "0893bb70",
   "metadata": {
    "slideshow": {
     "slide_type": "slide"
    }
   },
   "outputs": [],
   "source": [
    "y = [] # the correct labels\n",
    "baseline_predictions = []\n",
    "\n",
    "# write code here...\n",
    "\n",
    "\n",
    "# .. so that the asserts pass\n",
    "assert len(y) == len(baseline_predictions) == len(matches)\n",
    "assert sum(y) == 15739\n",
    "assert sum(baseline_predictions) == 37010"
   ]
  },
  {
   "cell_type": "code",
   "execution_count": 8,
   "id": "6e015d07",
   "metadata": {
    "slideshow": {
     "slide_type": "slide"
    }
   },
   "outputs": [],
   "source": [
    "y = [] # the correct labels\n",
    "baseline_predictions = []\n",
    "\n",
    "# write code here...\n",
    "for match in matches:\n",
    "    if match['auto_generated']:\n",
    "        baseline_predictions.append(1)\n",
    "        if match['mismatch']:\n",
    "            y.append(0)\n",
    "        else:\n",
    "            y.append(1)\n",
    "    else:\n",
    "        baseline_predictions.append(0)\n",
    "        if match['mismatch']:\n",
    "            raise Exception('this is not possible', match)\n",
    "        else:\n",
    "            y.append(1)\n",
    "\n",
    "# .. so that the asserts pass\n",
    "assert len(y) == len(baseline_predictions) == len(matches)\n",
    "assert sum(y) == 15739\n",
    "assert sum(baseline_predictions) == 37010"
   ]
  },
  {
   "cell_type": "markdown",
   "id": "8d96a0ef",
   "metadata": {
    "slideshow": {
     "slide_type": "slide"
    }
   },
   "source": [
    "<figure style=\"display: table; margin: 0 auto\">\n",
    "  <center>\n",
    "    <img src=\"images/acc.png\" width=\"700vmin\" style=\"padding: 4vmin 0 0 0\">\n",
    "  </center>\n",
    "</figure>"
   ]
  },
  {
   "cell_type": "code",
   "execution_count": 9,
   "id": "d3bdfaaf",
   "metadata": {
    "slideshow": {
     "slide_type": "fragment"
    }
   },
   "outputs": [
    {
     "data": {
      "text/plain": [
       "0.3396911667597907"
      ]
     },
     "execution_count": 9,
     "metadata": {},
     "output_type": "execute_result"
    }
   ],
   "source": [
    "import numpy as np\n",
    "\n",
    "y = np.array(y)\n",
    "baseline_predictions = np.array(baseline_predictions)\n",
    "\n",
    "sum(baseline_predictions == y) / len(y)"
   ]
  },
  {
   "cell_type": "markdown",
   "id": "5b81271a",
   "metadata": {
    "slideshow": {
     "slide_type": "notes"
    }
   },
   "source": [
    "is this a good score or a bad score?\n",
    "\n",
    "if doing pedestrian detection for autonomous driving, probably a bad score\n",
    "\n",
    "but if you search for something on google and 3 of the first 10 results are what you were looking for, then it's probably a good score\n",
    "\n",
    "in our case, we can ask for feedback from the moderators, since they're the ones that see these results\n",
    "\n",
    "apart from that, for us this is just a number out of context\n",
    "\n",
    "speaking of context, does anybody feel we might be missing something here?\n",
    "\n",
    "this formula for accuracy is the general one; for binary classification we have the equivalent, but slightly more detailed:"
   ]
  },
  {
   "cell_type": "markdown",
   "id": "8f88e101",
   "metadata": {
    "slideshow": {
     "slide_type": "slide"
    }
   },
   "source": [
    "<figure style=\"display: table; margin: 0 auto\">\n",
    "  <center>\n",
    "    <img src=\"images/acc2.png\" width=\"700vmin\" style=\"padding: 4vmin 0 0 0\">\n",
    "  </center>\n",
    "</figure>\n",
    "\n",
    "<figure style=\"display: table; margin: 0 auto\">\n",
    "  <center>\n",
    "    <img src=\"images/confusion-matrix.png\" width=\"800vmin\" style=\"padding: 4vmin 0 0 0\">\n",
    "  </center>\n",
    "</figure>"
   ]
  },
  {
   "cell_type": "markdown",
   "id": "ea2dbccf",
   "metadata": {
    "slideshow": {
     "slide_type": "notes"
    }
   },
   "source": [
    "did anybody figure out where i'm going with this?"
   ]
  },
  {
   "cell_type": "markdown",
   "id": "357ca1f5",
   "metadata": {
    "slideshow": {
     "slide_type": "slide"
    }
   },
   "source": [
    "<figure style=\"display: table; margin: 0 auto\">\n",
    "  <center>\n",
    "    <img src=\"images/acc2.png\" width=\"700vmin\" style=\"padding: 4vmin 0 0 0\">\n",
    "  </center>\n",
    "</figure>\n",
    "\n",
    "<figure style=\"display: table; margin: 0 auto\">\n",
    "  <center>\n",
    "    <img src=\"images/confusion-matrix2.png\" width=\"800vmin\" style=\"padding: 4vmin 0 0 0\">\n",
    "  </center>\n",
    "</figure>"
   ]
  },
  {
   "cell_type": "markdown",
   "id": "f57b5717",
   "metadata": {
    "slideshow": {
     "slide_type": "notes"
    }
   },
   "source": [
    "so it seems like we have no true negatives in our dataset\n",
    "\n",
    "let's say we have 100 members and the algorithm only returns 5 matches; let's say the moderator adds another 5 members to the results; the remaining 90 members are the true negatives; both the algorithm and the human moderator haven't selected them; but they are not in our dataset\n",
    "\n",
    "we need to add true negative to our dataset:\n",
    "- for a better understanding of our algorithm's performance\n",
    "- for training a ML model\n",
    "\n"
   ]
  },
  {
   "cell_type": "code",
   "execution_count": null,
   "id": "7285f779",
   "metadata": {
    "slideshow": {
     "slide_type": "slide"
    }
   },
   "outputs": [],
   "source": [
    "EXTEND_COUNT = 40000\n",
    "# list of dictionaries {'member_id': int, 'request_id': int}\n",
    "true_negatives = []\n",
    "\n",
    "# generate 40000 random new matches ...\n",
    "\n",
    "\n",
    "# ... such that these tests pass\n",
    "assert len(true_negatives) == EXTEND_COUNT\n",
    "true_negatives_set = {(tn['member_id'], tn['request_id']) for tn in true_negatives}\n",
    "assert true_negatives_set == EXTEND_COUNT\n",
    "\n",
    "old_matches_set = {(d['member_id'], d['request_id']) for d in matches}\n",
    "member_ids_set = {{d['member_id'] for d in matches}}\n",
    "request_ids_set = {{d['request_id'] for d in matches}}\n",
    "\n",
    "assert len(true_negatives_set.difference(old_matches_set)) == EXTEND_COUNT\n",
    "for tn in true_negatives:\n",
    "    assert tn['member_id'] in member_ids_set\n",
    "    assert tn['request_id'] in request_ids_set"
   ]
  },
  {
   "cell_type": "code",
   "execution_count": 16,
   "id": "6ae2cf3d",
   "metadata": {
    "slideshow": {
     "slide_type": "slide"
    }
   },
   "outputs": [],
   "source": [
    "EXTEND_COUNT = 40000\n",
    "# list of dictionaries {'member_id': int, 'request_id': int}\n",
    "true_negatives = []\n",
    "\n",
    "# generate 40000 random new matches ...\n",
    "import random\n",
    "\n",
    "member_ids = list({d['member_id'] for d in matches})\n",
    "request_ids = list({d['request_id'] for d in matches})\n",
    "all_matches_set = {(d['member_id'], d['request_id']) for d in matches}\n",
    "\n",
    "while True:\n",
    "  member_id = member_ids[random.randint(0, len(member_ids) - 1)]\n",
    "  request_id = request_ids[random.randint(0, len(request_ids) - 1)]\n",
    "  if (member_id, request_id) in all_matches_set:\n",
    "    continue\n",
    "  true_negatives.append({\n",
    "      'member_id': member_id,\n",
    "      'request_id': request_id,\n",
    "  })\n",
    "  all_matches_set.add((member_id, request_id))\n",
    "\n",
    "  if len(true_negatives) == EXTEND_COUNT:\n",
    "    break\n",
    "\n",
    "# ... such that these tests pass\n",
    "assert len(true_negatives) == EXTEND_COUNT\n",
    "true_negatives_set = {(tn['member_id'], tn['request_id']) for tn in true_negatives}\n",
    "assert len(true_negatives_set) == EXTEND_COUNT\n",
    "\n",
    "old_matches_set = {(d['member_id'], d['request_id']) for d in matches}\n",
    "member_ids_set = {d['member_id'] for d in matches}\n",
    "request_ids_set = {d['request_id'] for d in matches}\n",
    "\n",
    "assert len(true_negatives_set.difference(old_matches_set)) == EXTEND_COUNT\n",
    "for tn in true_negatives:\n",
    "    assert tn['member_id'] in member_ids_set\n",
    "    assert tn['request_id'] in request_ids_set"
   ]
  },
  {
   "cell_type": "code",
   "execution_count": 13,
   "id": "7cbed48e",
   "metadata": {
    "slideshow": {
     "slide_type": "slide"
    }
   },
   "outputs": [
    {
     "data": {
      "text/plain": [
       "40000"
      ]
     },
     "execution_count": 13,
     "metadata": {},
     "output_type": "execute_result"
    }
   ],
   "source": [
    "extended_matches = matches + true_negatives\n",
    "\n",
    "# update y and baseline_predictions with the new true negatives...\n",
    "\n",
    "\n",
    "# .. so that the asserts pass\n",
    "assert len(y) == len(baseline_predictions) == len(extended_matches)\n",
    "assert sum(y) == 15739\n",
    "assert sum(baseline_predictions) == 37010"
   ]
  },
  {
   "cell_type": "code",
   "execution_count": 17,
   "id": "ea21a29f",
   "metadata": {
    "slideshow": {
     "slide_type": "slide"
    }
   },
   "outputs": [],
   "source": [
    "extended_matches = matches + true_negatives\n",
    "\n",
    "# update y and baseline_predictions with the new true negatives...\n",
    "y = np.append(y, [0] * EXTEND_COUNT)\n",
    "baseline_predictions = np.append(baseline_predictions, [0] * EXTEND_COUNT)\n",
    "\n",
    "# .. so that the asserts pass\n",
    "assert len(y) == len(baseline_predictions) == len(extended_matches)\n",
    "assert sum(y) == 15739\n",
    "assert sum(baseline_predictions) == 37010"
   ]
  },
  {
   "cell_type": "markdown",
   "id": "a3ee7359",
   "metadata": {
    "slideshow": {
     "slide_type": "slide"
    }
   },
   "source": [
    "<figure style=\"display: table; margin: 0 auto\">\n",
    "  <center>\n",
    "    <img src=\"images/bert.png\" width=\"1000vmin\" style=\"padding: 4vmin 0 0 0\">\n",
    "  </center>\n",
    "</figure>\n"
   ]
  },
  {
   "cell_type": "markdown",
   "id": "fa3c16d2",
   "metadata": {
    "slideshow": {
     "slide_type": "slide"
    }
   },
   "source": [
    "## Install\n",
    "\n",
    "```bash\n",
    "pip install bert-serving-server  # server\n",
    "pip install bert-serving-client  # client, independent of `bert-serving-server`\n",
    "```"
   ]
  },
  {
   "cell_type": "code",
   "execution_count": 20,
   "id": "52893165",
   "metadata": {
    "slideshow": {
     "slide_type": "slide"
    }
   },
   "outputs": [
    {
     "data": {
      "text/plain": [
       "(3, 768)"
      ]
     },
     "execution_count": 20,
     "metadata": {},
     "output_type": "execute_result"
    }
   ],
   "source": [
    "from bert_serving.client import BertClient\n",
    "bc = BertClient()\n",
    "results = bc.encode(['First do it', 'then do it right', 'then do it better'])\n",
    "results.shape"
   ]
  },
  {
   "cell_type": "code",
   "execution_count": 21,
   "id": "58799ad7",
   "metadata": {
    "slideshow": {
     "slide_type": "fragment"
    }
   },
   "outputs": [
    {
     "data": {
      "text/plain": [
       "array([ 1.31864727e-01,  3.24041188e-01, -8.27044010e-01, -5.12046754e-01,\n",
       "       -2.10917473e-01, -7.56367436e-03,  2.78215021e-01,  1.45472363e-01,\n",
       "        3.16130877e-01, -8.04042339e-01,  1.51105180e-01, -8.90429616e-02,\n",
       "       -2.58598894e-01, -2.78033942e-01, -9.10568118e-01,  1.96250051e-01,\n",
       "       -4.78811204e-01, -2.19583943e-01, -1.24930609e-02,  5.57602704e-01,\n",
       "       -1.76175982e-01,  2.76079953e-01, -1.14945874e-01,  4.04391944e-01,\n",
       "        1.26200050e-01, -4.31549132e-01,  3.79727269e-03, -4.06851470e-01,\n",
       "       -3.90977770e-01,  3.08501661e-01,  3.04518729e-01, -3.86588812e-01,\n",
       "       -1.80198848e-01, -6.69611692e-02,  7.84349591e-02,  3.09790313e-01,\n",
       "        4.17365730e-01,  2.92629272e-01, -5.05525947e-01,  1.26575202e-01,\n",
       "       -4.70998287e-01, -2.99572051e-01, -1.80541933e-01, -5.99076271e-01,\n",
       "        4.62537371e-02, -7.34317601e-01, -2.08782218e-02, -1.51368544e-01,\n",
       "       -3.55325997e-01, -7.57688761e-01, -7.27522016e-01,  4.01857048e-01,\n",
       "        1.07890710e-01,  2.23691151e-01, -1.94682702e-01,  2.91878313e-01,\n",
       "       -1.05379440e-01,  3.12263817e-01, -5.93273759e-01,  1.34063333e-01,\n",
       "       -6.05534852e-01,  1.35773331e-01,  1.26539707e-01, -2.45230272e-01,\n",
       "       -3.08945719e-02, -1.76231831e-01,  1.50190383e-01,  1.06884360e+00,\n",
       "       -4.70224053e-01, -7.43697286e-02, -8.83722663e-01, -6.34817779e-02,\n",
       "        4.67865884e-01,  2.41181850e-01,  1.48177400e-01, -1.66960925e-01,\n",
       "       -1.68746579e-02,  3.02599967e-01, -4.67365086e-01, -3.03019136e-02,\n",
       "       -1.11654820e-02,  5.78097999e-01, -4.44806963e-01,  3.37408811e-01,\n",
       "       -3.45532805e-01, -3.85794729e-01, -2.52854228e-01, -3.35222632e-01,\n",
       "       -2.78496593e-01,  2.73837477e-01, -3.33035737e-01, -3.09200078e-01,\n",
       "       -1.72625408e-01, -3.46947610e-01,  4.40362841e-01, -4.09988970e-01,\n",
       "        1.44143790e-01, -1.41420156e-01, -6.72977068e-04, -2.41597921e-01,\n",
       "        2.92715371e-01, -8.75080228e-01, -1.99799657e-01, -3.85477245e-01,\n",
       "        7.03001171e-02,  4.90601480e-01,  3.27744372e-02,  6.64009675e-02,\n",
       "        4.60065305e-01,  1.07678715e-02,  6.65967837e-02,  2.12530538e-01,\n",
       "       -3.11556816e-01, -3.92147988e-01, -9.04462859e-02,  5.49781561e-01,\n",
       "       -1.62721470e-01, -1.29693255e-01, -1.97133943e-01, -2.17884272e-01,\n",
       "       -4.25276577e-01, -1.64394528e-01, -5.48302412e-01,  2.07731649e-01,\n",
       "        1.39466628e-01,  6.34211898e-01, -2.26368494e-02,  8.46229732e-01,\n",
       "       -4.67065610e-02, -5.71366787e-01,  6.46952450e-01,  2.75584638e-01,\n",
       "        7.44393110e-01, -2.54459351e-01, -5.16299486e-01,  4.13092226e-01,\n",
       "        6.54713571e-01,  1.77604303e-01, -4.72697675e-01, -2.26278350e-01,\n",
       "       -1.98110983e-01, -3.50354522e-01,  5.23121119e-01,  2.52987266e-01,\n",
       "        7.73254812e-01, -2.00170711e-01, -5.14254868e-02, -1.11495292e+00,\n",
       "        4.03272212e-02,  6.58714354e-01, -3.55568469e-01,  5.15392832e-02,\n",
       "       -1.86105967e-01, -5.27808964e-01, -6.68046057e-01, -3.82562906e-01,\n",
       "       -1.29708558e-01, -2.40345560e-02,  2.96431243e-01, -9.89354998e-02,\n",
       "        2.23826841e-01, -3.05483818e-01, -6.50900304e-02,  5.57716787e-01,\n",
       "        3.05222869e-02, -6.86733872e-02, -1.10198736e-01,  4.29263920e-01,\n",
       "        4.33244854e-01,  9.19700414e-02, -3.10642719e-01, -1.92276433e-01,\n",
       "        4.59706783e-01,  2.97320545e-01,  9.77727696e-02,  1.46372870e-01,\n",
       "       -6.90300763e-01,  1.97141260e-01, -5.30433133e-02,  3.15658033e-01,\n",
       "       -9.60225284e-01,  1.58820122e-01, -1.63156204e-02, -1.31830513e-01,\n",
       "       -2.15311840e-01, -1.82924598e-01,  3.31264645e-01, -1.60312817e-01,\n",
       "       -2.98648924e-01,  6.65883303e-01,  5.40308794e-03,  1.05634309e-01,\n",
       "        3.18361253e-01,  6.61443472e-02,  3.99265945e-01, -7.52985656e-01,\n",
       "       -3.16388160e-01, -1.69973150e-01, -4.93927419e-01,  5.05139947e-01,\n",
       "        7.09693253e-01, -4.43574823e-02, -7.37644220e-03, -1.65442258e-01,\n",
       "       -1.09609559e-01,  8.06449115e-01,  3.98583263e-01, -1.55663535e-01,\n",
       "        1.85364395e-01,  3.16400565e-02, -8.91880631e-01,  6.98962927e-01,\n",
       "       -1.59680754e-01,  1.21653579e-01,  1.69445544e-01,  2.37486601e-01,\n",
       "       -3.96758355e-02,  4.54472631e-01,  2.94894218e-01,  1.10596359e-01,\n",
       "        1.83631808e-01, -3.84570867e-01, -3.49587291e-01,  3.01853240e-01,\n",
       "       -4.63978708e-01, -1.45655513e-01,  4.24672753e-01,  2.95174867e-01,\n",
       "       -3.11468184e-01, -7.65721500e-01, -2.95271340e-04, -8.10814425e-02,\n",
       "        2.23381370e-01,  1.40033111e-01, -9.58374515e-02, -1.73793048e-01,\n",
       "       -4.63407040e-01, -1.79872707e-01, -1.99610680e-01, -7.19789714e-02,\n",
       "       -1.06038071e-01,  4.19074763e-03,  6.59105182e-03,  5.97163618e-01,\n",
       "        2.69301027e-01,  1.63386494e-01,  1.97719131e-02, -8.82967293e-01,\n",
       "        6.02713585e-01,  6.41587451e-02, -5.63217998e-01, -5.86984873e-01,\n",
       "       -9.21324939e-02, -4.80534613e-01, -5.50108790e-01, -7.92292774e-01,\n",
       "       -9.57063973e-01,  1.01100370e-01, -6.83288693e-01, -3.54366750e-01,\n",
       "        2.42906481e-01,  2.76294321e-01,  4.32581425e-01,  4.50336412e-02,\n",
       "       -2.94083267e-01, -2.78774440e-01,  1.93171516e-01,  3.97554487e-02,\n",
       "        7.82660171e-02, -7.83844888e-02,  2.29140252e-01, -7.15898424e-02,\n",
       "        5.08859277e-01, -2.13661075e-01, -3.68055284e-01,  8.46467465e-02,\n",
       "        3.99100572e-01,  1.03695234e-02,  2.87756264e-01, -3.88621897e-01,\n",
       "       -4.00590077e-02,  2.78063715e-01, -6.90394282e-01,  6.04921460e-01,\n",
       "        5.94309211e-01,  2.35892370e-01,  3.84664834e-01, -4.22883093e-01,\n",
       "       -2.96468675e-01, -4.16559607e-01, -4.08985317e-01,  1.68973461e-01,\n",
       "       -3.91797960e-01, -5.79304516e-01,  7.37087250e-01, -3.92832786e-01,\n",
       "       -2.70735085e-01,  3.80404115e-01, -2.09461495e-01, -5.31148195e-01,\n",
       "       -4.06529605e-01,  4.07891899e-01,  2.36075073e-01,  4.67513412e-01,\n",
       "       -4.66823280e-01, -5.31740785e-02, -7.28124678e-02, -5.05023360e-01,\n",
       "       -6.11043549e+00, -7.98393428e-01, -1.28399089e-01, -7.67002553e-02,\n",
       "        5.33852220e-01, -4.34464037e-01, -1.50821611e-01,  2.40427896e-01,\n",
       "       -1.53845996e-01,  2.84286171e-01, -3.96167278e-01, -4.45071876e-01,\n",
       "       -4.02982771e-01, -4.57688421e-02,  4.68179703e-01, -1.28386751e-01,\n",
       "        4.55856711e-01, -7.16637969e-01,  8.17144215e-02,  8.15533280e-01,\n",
       "       -2.78965890e-01, -2.39404947e-01,  1.56184554e-01, -2.56055534e-01,\n",
       "        1.52861644e-02,  7.93879211e-01, -4.44851488e-01,  9.17548090e-02,\n",
       "       -2.01296061e-01, -1.67739570e-01, -9.31577459e-02, -1.78488061e-01,\n",
       "        3.65588367e-02,  3.99185002e-01, -2.33082935e-01, -5.07327318e-01,\n",
       "        2.94608146e-01,  3.18667471e-01,  3.52610558e-01,  3.82657140e-01,\n",
       "        2.70286471e-01, -1.47153899e-01, -1.79183155e-01,  1.88094109e-01,\n",
       "        6.88468158e-01, -7.31531024e-01,  1.24669302e+00, -9.16230679e-02,\n",
       "       -5.20652294e-01,  8.81774798e-02,  4.66978066e-02,  6.45536959e-01,\n",
       "        3.87206972e-01, -7.53060818e-01,  2.83270776e-01, -8.05254355e-02,\n",
       "        3.59988660e-01,  3.97853643e-01,  9.83427167e-01,  1.07790813e-01,\n",
       "        2.42903203e-01, -5.35571873e-01,  2.66671516e-02,  1.27629340e-01,\n",
       "        2.40670398e-01, -2.79471070e-01,  1.81834653e-01, -5.23972750e-01,\n",
       "       -2.66552180e-01,  7.68168420e-02, -1.78907573e-01,  4.45847511e-01,\n",
       "        2.32832387e-01, -1.52997625e+00, -6.26768768e-01,  4.38246727e-01,\n",
       "        1.69574767e-01,  4.11259174e-01,  1.60011038e-01, -5.28457046e-01,\n",
       "       -1.00639343e+00, -9.71911252e-01, -5.07952154e-01,  1.11382283e-01,\n",
       "        1.44826978e-01,  1.90204769e-01,  4.08324488e-02, -9.82236743e-01,\n",
       "        2.23331481e-01, -2.02759862e-01,  3.96435022e-01,  8.71459365e-01,\n",
       "       -2.74411645e-02,  3.31642807e-01,  2.99879730e-01, -2.18565129e-02,\n",
       "        1.90688044e-01, -6.29090726e-01, -4.29685056e-01, -6.83851168e-02,\n",
       "        2.61542797e-02, -1.26282170e-01,  5.40676892e-01,  6.00125015e-01,\n",
       "        5.05866826e-01, -4.57049996e-01, -3.19828093e-01,  2.37412378e-01,\n",
       "        2.62901515e-01,  7.48436570e-01,  2.17038989e-01,  4.42916095e-01,\n",
       "        5.72139807e-02,  6.69680834e-01, -3.39231700e-01, -3.49452555e-01,\n",
       "        7.77031202e-03,  3.71404171e-01, -5.00193760e-02, -3.86216491e-01,\n",
       "       -3.73533070e-01,  4.59779680e-01, -5.70966423e-01, -1.86782718e-01,\n",
       "        2.00870469e-01, -4.54830145e-03, -1.41063854e-01, -2.70908803e-01,\n",
       "       -4.14331071e-02,  1.67952806e-01,  6.86826557e-02,  2.67580420e-01,\n",
       "       -3.57181907e-01, -1.51252419e-01, -3.29185396e-01,  1.42419219e-01,\n",
       "        2.11822361e-01, -2.94173896e-01,  3.64177853e-01,  3.96013796e-01,\n",
       "       -1.21363796e-01,  3.06578398e-01, -6.03047982e-02,  3.01319927e-01,\n",
       "        1.21226713e-01,  5.79665482e-01, -4.69568253e-01,  1.59578204e-01,\n",
       "        4.64518443e-02,  7.00546741e-01,  4.76512820e-01, -2.86501110e-01,\n",
       "       -4.93325368e-02, -1.90374732e-01, -1.10932961e-01,  3.42494905e-01,\n",
       "       -7.45804012e-02, -5.79315662e-01,  3.69473130e-01, -3.43458623e-01,\n",
       "       -3.96190464e-01, -2.85623312e-01, -2.10936189e-01,  3.84656638e-01,\n",
       "        5.84409595e-01,  7.21351445e-01, -3.35218221e-01,  3.73481140e-02,\n",
       "       -5.66617966e-01, -2.82123357e-01,  3.40131223e-01, -3.64535064e-01,\n",
       "       -2.45052144e-01, -1.74960345e-01,  5.77136219e-01, -1.24356329e-01,\n",
       "       -6.30208433e-01,  1.91879064e-01, -4.76278841e-01,  1.95212513e-01,\n",
       "       -6.43565655e-02, -6.17674470e-01, -4.68594968e-01, -2.37954289e-01,\n",
       "       -8.94265249e-02, -1.98720962e-01, -2.96201706e-01,  1.36848480e-01,\n",
       "        1.93795085e-01,  1.14433601e-01, -2.20942184e-01, -9.28711146e-02,\n",
       "       -1.26544043e-01, -2.23768443e-01, -2.65209675e-01, -4.25884247e-01,\n",
       "        3.51039410e-01,  2.60684192e-01,  2.63764650e-01,  5.64472616e-01,\n",
       "       -1.19489193e-01,  2.91659888e-02,  3.17135990e-01,  2.36198470e-01,\n",
       "        6.57865107e-01,  3.72792184e-01, -1.73202723e-01,  7.76808977e-01,\n",
       "       -4.19086546e-01, -4.93269920e-01,  2.55512267e-01,  5.33518605e-02,\n",
       "       -5.33114195e-01, -5.59075892e-01, -1.11732829e+00,  1.36725456e-01,\n",
       "       -1.97798431e-01, -6.44002035e-02,  1.18739292e-01,  5.09741232e-02,\n",
       "       -2.38657147e-01,  6.42511621e-02, -5.05549982e-02,  3.95999700e-01,\n",
       "        3.68788779e-01, -2.08509237e-01, -7.05547645e-05, -4.13479209e-02,\n",
       "        3.85883823e-02,  4.79904503e-01, -3.15732837e-01,  3.28973979e-01,\n",
       "       -2.68466860e-01, -6.36214614e-01,  4.10679489e-01,  1.20086148e-01,\n",
       "        7.27566630e-02,  2.98964888e-01,  5.60952365e-01, -2.26023048e-01,\n",
       "        5.20504601e-02, -6.02601171e-01, -1.57132342e-01,  4.73441839e-01,\n",
       "        2.41748542e-01, -1.72552317e-01, -3.93185288e-01,  1.89529538e-01,\n",
       "       -4.60292876e-01,  2.42281675e-01,  5.41751266e-01, -1.88463494e-01,\n",
       "       -2.44953915e-01, -3.21154416e-01, -1.34335905e-01, -5.92859797e-02,\n",
       "       -3.29001069e-01,  4.24558073e-01,  4.39594656e-01,  8.44179332e-01,\n",
       "       -3.14906389e-01,  4.39618528e-01,  4.65003431e-01,  1.39082493e-02,\n",
       "       -1.14183918e-01,  3.36030602e-01,  2.89884657e-01, -1.85417622e-01,\n",
       "        8.67936239e-02,  1.93876654e-01, -4.09410596e-02, -3.37114632e-01,\n",
       "        7.53580779e-02, -3.71027529e-01, -5.13415813e-01, -2.86470443e-01,\n",
       "        4.65166047e-02, -5.75923562e-01, -1.90807790e-01,  6.45482689e-02,\n",
       "       -2.78289604e-04,  3.67779613e-01,  1.92114204e-01, -4.22182679e-02,\n",
       "       -4.66247469e-01, -9.60076675e-02, -3.08400065e-01, -3.59564483e-01,\n",
       "       -3.02570254e-01,  2.74077114e-02, -4.83880460e-01,  4.93715912e-01,\n",
       "        5.78059442e-02,  8.68349671e-01,  6.88500762e-01,  5.56698501e-01,\n",
       "        1.39000699e-01, -3.70378882e-01, -5.77102959e-01,  3.17550123e-01,\n",
       "       -5.97231984e-02,  1.39052570e-01, -1.73058897e-01,  1.77172109e-01,\n",
       "       -2.03853548e-02,  5.59338033e-01,  1.63683593e-01, -4.07373607e-01,\n",
       "        4.46218789e-01, -9.57548618e-02, -8.73909444e-02, -4.03439611e-01,\n",
       "        3.28020379e-02,  2.68032312e-01, -4.61693436e-01,  3.42601597e-01,\n",
       "       -2.62305468e-01, -7.82439351e-01, -5.16285300e-01,  3.94789487e-01,\n",
       "        5.78674562e-02,  4.33510482e-01,  7.96314955e-01,  4.95098114e-01,\n",
       "       -2.44963571e-01,  4.85237926e-01, -5.14376402e-01,  3.19549963e-02,\n",
       "        5.78417778e-01, -1.30007923e-01, -1.76086336e-01,  2.60324776e-01,\n",
       "       -3.63308311e-01,  4.63490188e-02, -2.23905910e-02,  4.66340519e-02,\n",
       "        5.65328240e-01,  1.21907093e-01,  3.59961927e-01,  5.28412223e-01,\n",
       "        5.70787191e-01, -2.35867620e-01,  2.63001740e-01,  1.28071845e-01,\n",
       "       -3.91087353e-01, -3.12942445e-01,  7.66557008e-02,  4.09037881e-02,\n",
       "        8.40310976e-02,  8.74577224e-01, -1.13990381e-01, -1.89887151e-01,\n",
       "        8.87126550e-02, -1.28638029e-01,  6.46654427e-01,  5.63227832e-01,\n",
       "       -2.57157326e-01, -2.20875684e-02, -2.88059175e-01,  2.19740912e-01,\n",
       "        3.27277780e-01,  1.74182042e-01,  1.12545475e-01, -6.02258682e-01,\n",
       "       -1.78749949e-01,  1.68962494e-01,  3.26757580e-01, -1.14341572e-01,\n",
       "       -2.29061201e-01, -9.47258249e-02, -2.80264709e-02,  1.73645809e-01,\n",
       "        4.56791580e-01,  6.12195134e-01, -2.58752406e-02, -1.87856168e-01,\n",
       "       -2.96849400e-01,  1.52403936e-01, -3.36264789e-01, -6.42880976e-01,\n",
       "       -1.57083601e-01, -1.10795222e-01, -5.24261355e-01,  9.22823399e-02,\n",
       "       -1.21910140e-01, -8.16729218e-02, -2.63843864e-01, -3.16356033e-01,\n",
       "        6.26403570e-01, -1.90985784e-01, -2.56251037e-01, -8.96346942e-02,\n",
       "        1.13784157e-01, -5.44009984e-01,  6.40955418e-02,  1.31762370e-01,\n",
       "       -2.30910897e-01, -3.56498733e-02,  2.78774828e-01, -5.58337986e-01,\n",
       "       -3.87064740e-02,  4.37591001e-02,  1.87008291e-01, -3.89160872e-01,\n",
       "       -1.62306800e-01,  8.02409947e-01, -4.31636184e-01,  2.92472720e-01,\n",
       "       -5.13290048e-01, -1.02531547e-02, -2.76857197e-01,  2.13218644e-01,\n",
       "       -2.92034857e-02,  6.72016859e-01,  1.26161322e-01, -2.49612890e-02,\n",
       "       -2.50865608e-01, -8.49850178e-01,  6.37118220e-01,  1.96917027e-01,\n",
       "        1.87360689e-01, -1.96297243e-01, -3.91952753e-01,  4.51293707e-01,\n",
       "       -4.85181510e-01, -7.85905540e-01,  1.06013790e-01,  8.98377672e-02,\n",
       "       -2.76365846e-01, -1.09496333e-01, -2.33432576e-02, -6.22912347e-02,\n",
       "       -2.82474756e-01, -1.77569523e-01,  6.50934502e-02, -1.20804543e-02,\n",
       "        3.52508843e-01, -3.33291322e-01,  1.05381690e-01, -5.05562961e-01,\n",
       "        1.21275425e-01,  2.55271554e-01, -5.45621514e-01,  2.54216582e-01,\n",
       "       -5.46855450e-01, -2.56499164e-02, -4.99849409e-01, -1.45643786e-01,\n",
       "        4.59594488e-01,  2.90842921e-01,  3.94991696e-01, -5.69184795e-02,\n",
       "       -2.60803431e-01, -1.36295080e-01, -3.65438133e-01,  6.71734214e-01,\n",
       "        5.51235192e-02, -3.71195734e-01, -3.92501354e-01, -3.17218482e-01],\n",
       "      dtype=float32)"
      ]
     },
     "execution_count": 21,
     "metadata": {},
     "output_type": "execute_result"
    }
   ],
   "source": [
    "results[0]"
   ]
  },
  {
   "cell_type": "code",
   "execution_count": 22,
   "id": "6e2dc374",
   "metadata": {},
   "outputs": [
    {
     "data": {
      "text/plain": [
       "array([ 3.27994078e-02, -3.99684906e-02,  3.22000295e-01,  2.59024799e-02,\n",
       "        5.97291924e-02, -4.99160924e-05,  1.98063795e-02,  7.61032477e-02,\n",
       "        8.24118927e-02,  3.75977308e-01, -5.87234087e-03,  9.40696523e-03,\n",
       "        5.86674549e-02,  1.54506311e-01,  7.41285682e-01,  9.34188068e-02,\n",
       "        2.53797531e-01,  8.79169703e-02,  4.12853085e-04,  1.42778203e-01,\n",
       "        6.06828332e-02,  8.12790617e-02,  3.85900103e-02,  4.97599468e-02,\n",
       "        5.09935990e-02,  7.48353302e-02,  1.09241046e-04,  1.39142290e-01,\n",
       "        1.63582548e-01, -2.39758641e-02,  9.89605337e-02,  9.30262581e-02,\n",
       "        3.93940769e-02,  7.11570354e-03,  1.99927427e-02,  1.12612352e-01,\n",
       "        1.05399601e-01,  6.46991059e-02,  4.01080549e-01, -2.21739504e-02,\n",
       "        2.42837638e-01,  1.31357461e-01,  2.97974106e-02,  2.44869694e-01,\n",
       "        9.19163576e-04,  3.15052181e-01,  6.50656223e-03, -2.03785133e-02,\n",
       "       -1.41895851e-02,  5.85714400e-01,  6.19590640e-01,  5.16663492e-02,\n",
       "        3.93970357e-03, -2.09629480e-02,  1.65047906e-02,  5.99760488e-02,\n",
       "        7.88170844e-03,  7.32608233e-03,  2.38336205e-01,  1.16581265e-02,\n",
       "        4.64448959e-01,  3.23091494e-03,  2.41078474e-02,  7.37731308e-02,\n",
       "        2.83572287e-03,  6.36513978e-02,  6.00288855e-03,  8.02646518e-01,\n",
       "        1.34926379e-01,  7.21520884e-03,  4.08452928e-01,  9.00864787e-03,\n",
       "        1.60132244e-01,  1.51088201e-02,  8.21218546e-03,  6.95455149e-02,\n",
       "        8.22596811e-03,  1.03953905e-01,  3.70117761e-02, -2.66107335e-03,\n",
       "       -3.79490266e-05,  2.42824018e-01,  1.68822244e-01,  4.53017168e-02,\n",
       "        7.01641068e-02,  8.90820250e-02,  2.75809746e-02,  2.02298649e-02,\n",
       "        7.36464560e-02,  1.02567126e-03,  6.43447414e-02,  9.35782269e-02,\n",
       "        3.93109135e-02, -3.68363410e-02,  2.17832506e-01,  1.13827780e-01,\n",
       "       -1.57581829e-02,  2.32518669e-02,  1.14382499e-04,  2.53123958e-02,\n",
       "        8.11821595e-02,  1.12379766e+00, -3.79929668e-03,  1.10461660e-01,\n",
       "        1.82173979e-02,  1.72188103e-01, -6.14939397e-03, -2.25939453e-02,\n",
       "        1.93630174e-01, -6.13032316e-04,  1.18261073e-02,  5.94659410e-02,\n",
       "        4.40564379e-02,  1.00323685e-01, -3.81743186e-03,  2.14872509e-01,\n",
       "        4.75135781e-02, -1.19325295e-02,  3.03092450e-02,  7.67688975e-02,\n",
       "        1.61253169e-01,  3.27587202e-02,  8.53483155e-02,  2.28215978e-02,\n",
       "        5.60669750e-02,  7.10900947e-02, -4.45549726e-04,  4.90769386e-01,\n",
       "        8.78796633e-03,  4.05218184e-01,  2.61323392e-01,  8.12797919e-02,\n",
       "        6.44058704e-01,  3.98334265e-02,  2.02306226e-01,  9.44552571e-02,\n",
       "        3.32210600e-01,  8.96114781e-02,  4.58620563e-02,  2.62805484e-02,\n",
       "        4.44085598e-02,  1.69014689e-02,  1.15638815e-01,  4.09705900e-02,\n",
       "        7.42224216e-01,  5.32180630e-02, -7.89298955e-03,  3.43428671e-01,\n",
       "        1.24231856e-02,  1.55103043e-01,  3.80792916e-02,  2.13812552e-02,\n",
       "        6.33093044e-02,  3.46639246e-01,  3.25576425e-01,  1.05568387e-01,\n",
       "        1.90541353e-02,  2.37220316e-03,  7.42920935e-02,  2.27265712e-02,\n",
       "        6.54754564e-02, -5.75811639e-02, -1.25987437e-02,  1.30034417e-01,\n",
       "        6.03597239e-03, -4.80136462e-03,  3.04151624e-02,  2.72578359e-01,\n",
       "        5.21120951e-02,  1.65285151e-02,  8.23199898e-02,  3.87151204e-02,\n",
       "        2.25242347e-01,  1.39162019e-01,  1.25632789e-02,  1.82760949e-03,\n",
       "        4.10255969e-01, -5.42826578e-02, -1.32008614e-02,  2.09786385e-01,\n",
       "        7.41470754e-01,  7.31956214e-02, -1.28485169e-03,  2.36559156e-02,\n",
       "        1.08320996e-01, -6.11566082e-02,  2.61908829e-01,  5.89078441e-02,\n",
       "        1.00072421e-01,  7.91214049e-01,  2.69769982e-04,  2.18744222e-02,\n",
       "       -1.86972357e-02, -3.76108661e-03,  1.13493361e-01,  5.67482829e-01,\n",
       "        1.30923182e-01, -2.77031288e-02,  2.91686356e-01,  1.16130181e-01,\n",
       "        3.18569720e-01,  1.01462100e-03,  9.09224676e-04,  8.03051889e-02,\n",
       "        4.63824533e-02,  5.58520734e-01,  1.54091185e-03, -1.77028612e-03,\n",
       "        1.74834765e-02,  1.63665693e-02,  7.35925376e-01,  5.26790559e-01,\n",
       "        2.91818362e-02, -1.95547175e-02,  4.30016480e-02, -5.93304727e-03,\n",
       "       -8.61159351e-04,  5.52964881e-02,  1.63156390e-02,  1.94620602e-02,\n",
       "        8.22683722e-02,  1.10767223e-01,  6.47006780e-02,  9.86947715e-02,\n",
       "        8.97439718e-02, -5.91289764e-03,  1.85088784e-01,  1.33171335e-01,\n",
       "        2.07377940e-01,  3.52652520e-01,  1.44027417e-05, -4.09942959e-03,\n",
       "       -2.76159458e-02,  5.28600886e-02,  1.13962237e-02,  2.44256761e-02,\n",
       "        2.85833962e-02,  5.09519177e-03,  7.93434232e-02,  5.72374498e-04,\n",
       "       -1.25470487e-02,  3.06713278e-04,  8.03248025e-04,  3.61150056e-01,\n",
       "        2.40681171e-02,  6.92657679e-02,  4.07820195e-03,  4.38329190e-01,\n",
       "        2.21422702e-01,  1.11972755e-02,  3.16271216e-01,  2.21592084e-01,\n",
       "        9.63162631e-03,  2.36229524e-01,  2.58302316e-02,  4.65608507e-01,\n",
       "        8.65305841e-01,  2.18336051e-03,  5.85761487e-01,  9.46742669e-02,\n",
       "        2.48196758e-02,  8.80967379e-02,  1.74621865e-01, -9.38909873e-03,\n",
       "        4.70307395e-02,  9.22526121e-02,  9.18285549e-02,  5.88340312e-03,\n",
       "       -1.56740639e-02,  1.07104518e-02, -8.59197751e-02,  4.39736014e-03,\n",
       "        3.00745338e-01, -3.12772207e-02,  1.34770915e-01, -1.71144102e-02,\n",
       "        1.62280828e-01,  3.24431900e-03,  4.08419268e-03,  5.95948584e-02,\n",
       "        1.55344442e-03,  1.12831313e-02,  4.63731706e-01,  4.13349330e-01,\n",
       "        2.86262065e-01, -6.64939359e-03, -2.16276255e-02,  1.17039777e-01,\n",
       "        6.93616718e-02,  1.44957796e-01,  8.06872547e-02,  3.01534534e-02,\n",
       "       -1.11741305e-03,  4.87752676e-01,  3.84475559e-01,  2.35335812e-01,\n",
       "       -1.89717747e-02,  1.75128534e-01,  1.27039328e-01,  9.75367427e-02,\n",
       "        1.04563981e-01,  6.49680197e-02,  1.38562560e-01,  2.52905637e-02,\n",
       "        8.78178552e-02,  2.23585841e-04, -1.17772603e-02,  3.06552947e-01,\n",
       "        4.02794991e+01,  1.91862762e-01,  3.32467556e-02,  2.72743101e-03,\n",
       "        1.57645285e-01,  1.01774380e-01, -4.26581223e-03,  4.73239310e-02,\n",
       "        6.40381575e-02, -4.35106978e-02, -1.90037191e-02,  1.84501112e-01,\n",
       "        2.25191757e-01, -9.55715403e-03,  6.94014058e-02,  1.80951990e-02,\n",
       "        5.25727756e-02,  3.63297373e-01, -1.05483215e-02,  8.35773647e-01,\n",
       "        4.37789522e-02,  7.39778653e-02,  1.45043898e-02,  3.54940742e-02,\n",
       "        4.36226651e-03,  3.30854893e-01,  2.06507564e-01,  1.49520840e-02,\n",
       "        2.93228291e-02,  3.76429874e-03,  1.04879411e-02,  3.89781557e-02,\n",
       "        8.22035316e-03,  3.43687832e-01,  5.96163161e-02,  1.48017302e-01,\n",
       "       -1.39798271e-02, -4.61342521e-02,  1.90878227e-01,  8.36614370e-02,\n",
       "        5.21623809e-03, -1.08117657e-03,  5.51645160e-02,  5.88893518e-02,\n",
       "        2.84983486e-01,  3.98115218e-01,  1.22557068e+00,  2.01938208e-02,\n",
       "        2.67460346e-01,  1.04889041e-02,  1.55839976e-02,  3.35605443e-01,\n",
       "        9.21642482e-02,  5.79218745e-01,  9.84629616e-03, -9.52124409e-03,\n",
       "        7.17999190e-02,  3.00328910e-01,  6.58570290e-01,  9.12441872e-03,\n",
       "        6.85687289e-02,  1.40789807e-01,  1.62386755e-03,  1.82263479e-02,\n",
       "        2.24043950e-02,  5.26580997e-02, -3.20180058e-02,  3.22987348e-01,\n",
       "        8.95753503e-02,  1.33712636e-02, -2.24662051e-02,  1.98041022e-01,\n",
       "        3.11789978e-02,  2.52785563e+00,  2.06646308e-01,  7.23542124e-02,\n",
       "       -1.44615229e-02,  3.73326167e-02, -1.58229005e-02,  1.21227778e-01,\n",
       "        5.43830752e-01,  7.51420438e-01,  2.41038710e-01,  3.79875377e-02,\n",
       "        5.66280037e-02,  1.80730447e-02,  7.74618518e-03,  9.24403965e-01,\n",
       "        7.47732744e-02,  6.52315095e-02,  2.08055228e-01,  6.12091243e-01,\n",
       "       -9.23148915e-03,  1.62006170e-01,  5.33514358e-02,  1.16525414e-04,\n",
       "        1.28475904e-01,  3.03332359e-01,  2.25117117e-01,  1.74698904e-02,\n",
       "       -3.71792587e-03,  1.70687884e-02,  1.81511104e-01,  1.57588094e-01,\n",
       "        1.98275104e-01,  5.17861210e-02,  1.51929319e-01,  4.67923395e-02,\n",
       "        1.06768012e-01,  2.26930276e-01, -9.80321318e-03,  1.86330020e-01,\n",
       "        7.59132067e-03,  2.26093560e-01,  1.48754790e-01,  1.94909051e-01,\n",
       "        2.76170351e-04,  6.61346763e-02,  3.01549747e-03,  7.12331608e-02,\n",
       "        3.73451896e-02,  1.84434518e-01,  3.52914542e-01,  8.49626120e-03,\n",
       "        5.70119023e-02, -6.51815149e-04,  3.19703668e-02,  5.17832078e-02,\n",
       "        8.50833021e-03,  4.73313816e-02,  8.70177150e-03,  1.33851366e-02,\n",
       "        7.95576498e-02,  2.29252093e-02,  4.28061783e-02,  4.43292893e-02,\n",
       "        4.05474678e-02,  9.27881226e-02, -1.55644184e-02,  1.06057525e-01,\n",
       "        1.49566755e-02,  8.13352759e-04,  8.91329627e-03,  6.66790903e-02,\n",
       "        3.79302688e-02,  2.19890475e-01,  2.53054619e-01,  4.50724624e-02,\n",
       "       -9.45624709e-03,  3.59330833e-01,  2.27069050e-01,  6.20098598e-02,\n",
       "        8.35446734e-03,  2.91179288e-02,  2.09097788e-02,  1.13570325e-01,\n",
       "        1.67847369e-02,  4.46888000e-01,  1.28427133e-01,  7.43321702e-02,\n",
       "        8.95335004e-02,  5.04873730e-02,  6.96877167e-02,  1.26686350e-01,\n",
       "        3.11111033e-01,  4.55202758e-01,  1.76270440e-01,  1.34083990e-03,\n",
       "        3.69947165e-01, -3.36267836e-02,  6.18022606e-02,  1.74281329e-01,\n",
       "        2.01587509e-02, -2.33088434e-02,  3.23327929e-02, -1.57755688e-02,\n",
       "        2.92400509e-01, -4.43711504e-03,  1.56208739e-01,  3.63327712e-02,\n",
       "        1.08239129e-02,  2.24115998e-01, -2.50699744e-02,  6.13119826e-02,\n",
       "       -1.97750870e-02,  7.53840581e-02,  1.87380999e-01, -7.68763246e-04,\n",
       "        1.21410824e-02,  3.07260081e-02,  5.70546044e-03,  3.06446408e-03,\n",
       "        2.04284377e-02,  3.80774327e-02,  6.50852993e-02,  1.83711097e-01,\n",
       "        1.66292191e-01,  1.19574377e-02,  1.00529186e-01,  2.88208157e-01,\n",
       "        2.12811120e-02, -1.80908421e-03,  7.98392575e-03,  9.10052732e-02,\n",
       "        1.96955130e-01,  1.11856200e-01, -4.03994694e-02,  6.12775683e-01,\n",
       "        8.67420360e-02,  2.23529920e-01,  3.30469608e-02,  5.07622445e-03,\n",
       "        4.35018152e-01,  1.70289397e-01,  7.66806483e-01,  3.37989666e-02,\n",
       "        4.26309034e-02,  3.19710486e-02, -3.75029519e-02,  5.82082337e-03,\n",
       "        6.71355873e-02, -1.18619753e-02,  2.33783838e-04,  6.27804250e-02,\n",
       "        1.48776621e-01,  7.57558793e-02,  2.18372716e-05, -2.98976013e-03,\n",
       "        8.90852511e-03,  1.06341466e-01,  4.69008870e-02, -1.04307026e-01,\n",
       "        4.60049510e-02,  3.06894183e-01,  1.16932116e-01, -4.51051368e-04,\n",
       "       -4.46497137e-03,  7.19434023e-02,  1.31124690e-01,  1.10717140e-01,\n",
       "       -1.48170348e-02,  4.79151994e-01,  5.18715829e-02,  1.27781704e-01,\n",
       "       -5.07020615e-02,  5.51538318e-02,  2.51597583e-01,  2.19434276e-02,\n",
       "        2.61659265e-01,  8.41117725e-02,  1.83713779e-01,  8.24471936e-02,\n",
       "       -1.71401128e-02,  1.01612046e-01,  2.08410621e-02,  7.97968917e-03,\n",
       "        1.67627916e-01, -2.53828708e-02,  2.23572418e-01,  5.20547092e-01,\n",
       "        5.80894426e-02,  3.03190708e-01,  2.25166395e-01,  4.09813551e-03,\n",
       "        1.27885677e-02,  1.89450815e-01,  1.00439720e-01,  4.50705504e-03,\n",
       "        2.52458416e-02,  6.24342065e-04, -3.63528333e-03, -6.67230226e-03,\n",
       "        5.88414911e-03,  1.80068105e-01,  1.77618489e-01,  5.93857802e-02,\n",
       "       -1.20144745e-03,  4.01630491e-01, -3.95409130e-02, -5.57964062e-03,\n",
       "        5.07869045e-05,  1.29660666e-01,  2.34584697e-02, -1.89377065e-03,\n",
       "        1.35558769e-01,  2.94116102e-02,  7.69689754e-02,  2.14118466e-01,\n",
       "        1.27862811e-01,  1.08404481e-03,  2.80694664e-01,  3.09390604e-01,\n",
       "        2.23176815e-02,  5.50879359e-01,  3.70958924e-01,  3.94435883e-01,\n",
       "        7.45455921e-02, -4.36139777e-02,  1.03468306e-01, -4.44468344e-03,\n",
       "       -4.01162468e-02,  6.29355898e-03, -1.73869766e-02,  6.96068853e-02,\n",
       "        1.88941765e-03,  4.32407647e-01,  2.12074574e-02,  1.70417547e-01,\n",
       "        1.75027445e-01, -3.55266929e-02,  3.07573024e-02,  2.65071839e-01,\n",
       "        1.47279128e-02,  5.43871522e-02,  2.98605621e-01,  1.13952853e-01,\n",
       "        4.97157499e-02,  5.03030002e-01,  3.11580628e-01,  1.81434348e-01,\n",
       "        8.59255437e-03,  1.98808789e-01,  5.14629126e-01,  2.59872437e-01,\n",
       "       -2.69802455e-02,  5.00162877e-02,  1.78121030e-01, -3.22857103e-03,\n",
       "        3.55399311e-01, -4.54463735e-02,  5.31348810e-02, -6.50117407e-03,\n",
       "        6.52945414e-02,  8.43339320e-03, -3.75500618e-04,  5.24183083e-03,\n",
       "        3.26938242e-01,  9.45352670e-03,  8.87500867e-02,  2.19149828e-01,\n",
       "        5.51842302e-02,  1.10709146e-02,  1.18514098e-01,  1.28161879e-02,\n",
       "        3.85295115e-02,  2.67361905e-02,  1.33435503e-02,  2.83690728e-03,\n",
       "        6.55583991e-03,  5.79320729e-01,  6.02529850e-03,  8.82256180e-02,\n",
       "       -1.38064468e-04,  1.17293084e-02,  3.38933855e-01,  2.49478504e-01,\n",
       "        4.09002118e-02, -1.53415161e-03,  1.07734777e-01,  3.99203487e-02,\n",
       "        4.59322333e-02,  4.89700735e-02,  3.66985314e-02,  3.07743609e-01,\n",
       "        3.57326418e-02,  7.14182341e-03,  9.02435929e-02, -1.23414928e-02,\n",
       "        2.52623595e-02, -2.63326354e-02,  6.30969834e-03,  5.60280904e-02,\n",
       "        2.47632414e-01,  1.50451526e-01, -5.43583464e-03,  2.32306484e-04,\n",
       "        1.27517581e-01, -5.90763753e-03,  4.49216478e-02,  2.84419566e-01,\n",
       "        4.79546301e-02,  4.68984107e-03,  2.74512798e-01,  2.33818907e-02,\n",
       "       -1.30658867e-02,  2.16150079e-02,  1.58864424e-01,  1.76537350e-01,\n",
       "        3.45758229e-01,  2.33287271e-02, -2.18332582e-03,  4.88957614e-02,\n",
       "        2.01245844e-02,  2.73969382e-01, -8.35765339e-03,  8.17678403e-03,\n",
       "        7.69622326e-02, -1.40270882e-03,  8.18358660e-02,  6.46610484e-02,\n",
       "       -1.40137214e-03, -2.71635153e-03,  9.21042562e-02,  8.28589052e-02,\n",
       "        6.65255263e-02,  5.01370907e-01,  1.86223775e-01,  1.45159036e-01,\n",
       "        1.96970031e-01,  4.26250231e-03,  4.94217277e-02,  1.31151706e-01,\n",
       "        2.29923194e-03,  4.24523175e-01, -1.28793810e-03,  3.41616035e-03,\n",
       "        3.44666354e-02,  7.46250749e-01,  3.03821802e-01,  2.46080197e-02,\n",
       "       -9.79427714e-04, -1.33033507e-02,  1.71264857e-01,  2.25588098e-01,\n",
       "        1.19663849e-01,  4.11716253e-01,  3.33812945e-02,  1.92199703e-02,\n",
       "        1.32046387e-01,  2.63909381e-02,  3.92211921e-04,  1.51030263e-02,\n",
       "        7.49522867e-03, -2.37062515e-04, -6.94906991e-03,  3.59868258e-03,\n",
       "        2.13854630e-02,  4.68556434e-02, -9.77040082e-03,  2.63678759e-01,\n",
       "       -1.35571333e-02,  1.41440988e-01,  3.10657710e-01,  2.44143810e-02,\n",
       "        1.51598841e-01,  9.23043955e-03,  1.38375968e-01,  4.00764719e-02,\n",
       "        1.41758755e-01,  1.63477942e-01,  2.46408284e-01,  1.95556115e-02,\n",
       "        3.08622643e-02,  3.23036537e-02,  1.60395667e-01,  4.44952518e-01,\n",
       "       -2.87477160e-04,  1.66133136e-01,  2.19461486e-01,  3.59889604e-02],\n",
       "      dtype=float32)"
      ]
     },
     "execution_count": 22,
     "metadata": {},
     "output_type": "execute_result"
    }
   ],
   "source": [
    "results[0] * results[1]"
   ]
  },
  {
   "cell_type": "code",
   "execution_count": null,
   "id": "f8014450",
   "metadata": {},
   "outputs": [],
   "source": []
  }
 ],
 "metadata": {
  "celltoolbar": "Slideshow",
  "kernelspec": {
   "display_name": "Python 3",
   "language": "python",
   "name": "python3"
  },
  "language_info": {
   "codemirror_mode": {
    "name": "ipython",
    "version": 3
   },
   "file_extension": ".py",
   "mimetype": "text/x-python",
   "name": "python",
   "nbconvert_exporter": "python",
   "pygments_lexer": "ipython3",
   "version": "3.6.9"
  }
 },
 "nbformat": 4,
 "nbformat_minor": 5
}
