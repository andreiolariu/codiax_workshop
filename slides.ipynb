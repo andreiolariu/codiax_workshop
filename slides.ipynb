{
 "cells": [
  {
   "cell_type": "markdown",
   "id": "1dc61d36",
   "metadata": {
    "slideshow": {
     "slide_type": "slide"
    }
   },
   "source": [
    "# Who: Andrei Olariu\n",
    "## Stone Soup Technology\n",
    "<br/>\n",
    "<br/>\n",
    "\n",
    "\n",
    "# What: Matching Journalists with Domain Experts\n",
    "## Text Classification with BERT and Gradient Boosting Trees from Idea to Production"
   ]
  },
  {
   "cell_type": "markdown",
   "id": "a954ba3b",
   "metadata": {
    "slideshow": {
     "slide_type": "slide"
    }
   },
   "source": [
    "- intro on me and StoneSoup\n",
    "\n",
    "- describing the client and his problem\n",
    "\n",
    "- baseline approach\n",
    "\n",
    "- Machine Learning approach\n",
    "\n",
    "- discussion"
   ]
  },
  {
   "cell_type": "markdown",
   "id": "b4a41beb",
   "metadata": {
    "slideshow": {
     "slide_type": "slide"
    }
   },
   "source": [
    "<figure style=\"display: table; margin: 0 auto\">\n",
    "  <center>\n",
    "    <img src=\"images/sst.png\" width=\"800vmin\" style=\"padding: 0 0 0 0\">\n",
    "  </center>\n",
    "</figure>"
   ]
  },
  {
   "cell_type": "markdown",
   "id": "bbe72eb5",
   "metadata": {
    "slideshow": {
     "slide_type": "slide"
    }
   },
   "source": [
    "<figure style=\"display: table; margin: 0 auto\">\n",
    "  <center>\n",
    "    <img src=\"images/andrei.jpg\" width=\"1200vmin\" style=\"padding: 4vmin 0 0 0\">\n",
    "  </center>\n",
    "</figure>"
   ]
  },
  {
   "cell_type": "markdown",
   "id": "8d331126",
   "metadata": {
    "slideshow": {
     "slide_type": "notes"
    }
   },
   "source": [
    "that's me during the pandemic\n",
    "\n",
    "phd in natural language processing\n",
    "\n",
    "3 top 10 finishes in kaggle contests\n",
    "\n",
    "at sst, involved in backend, api and ml work"
   ]
  },
  {
   "cell_type": "markdown",
   "id": "8941c38a",
   "metadata": {
    "slideshow": {
     "slide_type": "slide"
    }
   },
   "source": [
    " "
   ]
  },
  {
   "cell_type": "markdown",
   "id": "f55b50b8",
   "metadata": {
    "slideshow": {
     "slide_type": "notes"
    }
   },
   "source": [
    "now you have more context on me and the company I work at\n",
    "\n",
    "unfortunately, I don't know a lot about you, so I had to prepare this workshop making some assumptions\n",
    "\n",
    "if you have experience with something and you find some things trivial, then just breath in, breath out, enjoy the moment and bask in your awesomeness\n",
    "\n",
    "don't wait till the end for questions"
   ]
  },
  {
   "cell_type": "markdown",
   "id": "0a5a015b",
   "metadata": {
    "slideshow": {
     "slide_type": "fragment"
    }
   },
   "source": [
    "# Assumptions\n",
    "\n",
    "- no/little knowledge of Python\n",
    "- no/little experience building and deploying Machine Learning models\n",
    "\n",
    "# Feel free to interrupt me and ask questions"
   ]
  },
  {
   "cell_type": "markdown",
   "id": "63afaf41",
   "metadata": {
    "slideshow": {
     "slide_type": "slide"
    }
   },
   "source": [
    "<figure style=\"display: table; margin: 0 auto\">\n",
    "  <center>\n",
    "    <img src=\"images/guidedpr.png\" width=\"1200vmin\" style=\"padding: 4vmin 0 0 0\">\n",
    "  </center>\n",
    "</figure>"
   ]
  },
  {
   "cell_type": "markdown",
   "id": "3270f3e0",
   "metadata": {
    "slideshow": {
     "slide_type": "slide"
    }
   },
   "source": [
    "We have a database of members, with a short description for each\n",
    "\n",
    "<figure style=\"display: table; margin: 0 auto\">\n",
    "  <center>\n",
    "    <img src=\"images/brad.png\" width=\"1200vmin\" style=\"padding: 4vmin 0 0 0\">\n",
    "  </center>\n",
    "</figure>"
   ]
  },
  {
   "cell_type": "markdown",
   "id": "25de7125",
   "metadata": {
    "slideshow": {
     "slide_type": "slide"
    }
   },
   "source": [
    "We have new requests coming in from journalists and we want to identify the best matching members\n",
    "\n",
    "<figure style=\"display: table; margin: 0 auto\">\n",
    "  <center>\n",
    "    <img src=\"images/request1.png\" width=\"1200vmin\" style=\"padding: 4vmin 0 0 0\">\n",
    "  </center>\n",
    "</figure>"
   ]
  },
  {
   "cell_type": "markdown",
   "id": "7bdc8c58",
   "metadata": {
    "slideshow": {
     "slide_type": "slide"
    }
   },
   "source": [
    "What do you think?\n",
    "\n",
    "How can we approach this problem?"
   ]
  },
  {
   "cell_type": "markdown",
   "id": "8849544e",
   "metadata": {
    "slideshow": {
     "slide_type": "fragment"
    }
   },
   "source": [
    "We need a baseline approach. It needs to be:\n",
    "\n",
    "- easy to implement\n",
    "\n",
    "- easy to explain/understand/debug\n",
    "\n",
    "- predictable\n",
    "\n",
    "- independent of training data"
   ]
  },
  {
   "cell_type": "markdown",
   "id": "77091b0f",
   "metadata": {
    "slideshow": {
     "slide_type": "notes"
    }
   },
   "source": [
    "Cmon, let's hear some ideas\n",
    "\n",
    "actively thinking about a solution will stimulate the creation of new neural paths inside your brain, making you better problem solvers\n",
    "\n",
    "i swear I'm not moving forward until I get another idea"
   ]
  },
  {
   "cell_type": "markdown",
   "id": "604a3143",
   "metadata": {
    "slideshow": {
     "slide_type": "slide"
    }
   },
   "source": [
    "Our baseline approach:\n",
    "\n",
    "- index the members' descriptions using a search engine (Solr)\n",
    "\n",
    "- given a request, send it to the search engine as the query and get the highest ranking members\n",
    "\n",
    "- **have a moderator review and correct the matches**\n",
    "\n",
    "- send updated matches to the journalist"
   ]
  },
  {
   "cell_type": "markdown",
   "id": "38cae3c1",
   "metadata": {
    "slideshow": {
     "slide_type": "notes"
    }
   },
   "source": [
    "notice the third step (hard not to)\n",
    "\n",
    "we don't trust the current approach - and it's right so, we haven't evaluated it\n",
    "\n",
    "we are also building a manually annotated dataset to train a ML model"
   ]
  },
  {
   "cell_type": "code",
   "execution_count": 3,
   "id": "4ddf2ab7",
   "metadata": {
    "slideshow": {
     "slide_type": "slide"
    }
   },
   "outputs": [],
   "source": [
    "import pickle\n",
    "\n",
    "with open('matches.pickle', 'rb') as f:\n",
    "    matches = pickle.loads(f.read())"
   ]
  },
  {
   "cell_type": "code",
   "execution_count": 4,
   "id": "3e2191eb",
   "metadata": {
    "slideshow": {
     "slide_type": "fragment"
    }
   },
   "outputs": [
    {
     "data": {
      "text/plain": [
       "39375"
      ]
     },
     "execution_count": 4,
     "metadata": {},
     "output_type": "execute_result"
    }
   ],
   "source": [
    "len(matches)"
   ]
  },
  {
   "cell_type": "code",
   "execution_count": 5,
   "id": "a4244665",
   "metadata": {
    "slideshow": {
     "slide_type": "fragment"
    }
   },
   "outputs": [
    {
     "data": {
      "text/plain": [
       "{'member_id': 113,\n",
       " 'request_id': 28552,\n",
       " 'mismatch': False,\n",
       " 'auto_generated': True}"
      ]
     },
     "execution_count": 5,
     "metadata": {},
     "output_type": "execute_result"
    }
   ],
   "source": [
    "matches[0]"
   ]
  },
  {
   "cell_type": "code",
   "execution_count": 6,
   "id": "d71ecf32",
   "metadata": {
    "slideshow": {
     "slide_type": "fragment"
    }
   },
   "outputs": [
    {
     "data": {
      "text/plain": [
       "{'member_id': 'Andrei',\n",
       " 'request_id': 'Codiax',\n",
       " 'mismatch': True,\n",
       " 'auto_generated': False,\n",
       " 'message': 'remove this from the matches list'}"
      ]
     },
     "execution_count": 6,
     "metadata": {},
     "output_type": "execute_result"
    }
   ],
   "source": [
    "matches[-1]"
   ]
  },
  {
   "cell_type": "code",
   "execution_count": 7,
   "id": "6920e1f5",
   "metadata": {
    "slideshow": {
     "slide_type": "fragment"
    }
   },
   "outputs": [],
   "source": [
    "matches = matches[:-1]"
   ]
  },
  {
   "cell_type": "code",
   "execution_count": 27,
   "id": "0893bb70",
   "metadata": {
    "slideshow": {
     "slide_type": "slide"
    }
   },
   "outputs": [],
   "source": [
    "y = [] # the correct labels\n",
    "baseline_predictions = []\n",
    "\n",
    "# write code here...\n",
    "\n",
    "\n",
    "# .. so that the asserts pass\n",
    "assert len(y) == len(baseline_predictions) == len(matches)\n",
    "assert sum(y) == 15739\n",
    "assert sum(baseline_predictions) == 37010"
   ]
  },
  {
   "cell_type": "code",
   "execution_count": 8,
   "id": "6e015d07",
   "metadata": {
    "slideshow": {
     "slide_type": "slide"
    }
   },
   "outputs": [],
   "source": [
    "y = [] # the correct labels\n",
    "baseline_predictions = []\n",
    "\n",
    "# write code here...\n",
    "for match in matches:\n",
    "    if match['auto_generated']:\n",
    "        baseline_predictions.append(1)\n",
    "        if match['mismatch']:\n",
    "            y.append(0)\n",
    "        else:\n",
    "            y.append(1)\n",
    "    else:\n",
    "        baseline_predictions.append(0)\n",
    "        if match['mismatch']:\n",
    "            raise Exception('this is not possible', match)\n",
    "        else:\n",
    "            y.append(1)\n",
    "\n",
    "# .. so that the asserts pass\n",
    "assert len(y) == len(baseline_predictions) == len(matches)\n",
    "assert sum(y) == 15739\n",
    "assert sum(baseline_predictions) == 37010"
   ]
  },
  {
   "cell_type": "code",
   "execution_count": 9,
   "id": "d3bdfaaf",
   "metadata": {
    "slideshow": {
     "slide_type": "fragment"
    }
   },
   "outputs": [
    {
     "data": {
      "text/plain": [
       "0.3396911667597907"
      ]
     },
     "execution_count": 9,
     "metadata": {},
     "output_type": "execute_result"
    }
   ],
   "source": [
    "import numpy as np\n",
    "\n",
    "y = np.array(y)\n",
    "baseline_predictions = np.array(baseline_predictions)\n",
    "\n",
    "sum(baseline_predictions == y) / len(y)"
   ]
  },
  {
   "cell_type": "markdown",
   "id": "7bd2de02",
   "metadata": {
    "slideshow": {
     "slide_type": "slide"
    }
   },
   "source": [
    "# Word2vec\n",
    "\n",
    "<figure style=\"display: table; margin: 0 auto\">\n",
    "  <center>\n",
    "    <img src=\"images/word2vec.png\" width=\"1200vmin\" style=\"padding: 4vmin 0 0 0\">\n",
    "  </center>\n",
    "</figure>\n"
   ]
  },
  {
   "cell_type": "markdown",
   "id": "f4bd9951",
   "metadata": {
    "slideshow": {
     "slide_type": "slide"
    }
   },
   "source": [
    "<figure style=\"display: table; margin: 0 auto\">\n",
    "  <center>\n",
    "    <img src=\"images/word2vec2.svg\" width=\"1300vmin\" style=\"padding: 4vmin 0 0 0\">\n",
    "  </center>\n",
    "</figure>"
   ]
  },
  {
   "cell_type": "markdown",
   "id": "c951f4fd",
   "metadata": {
    "slideshow": {
     "slide_type": "slide"
    }
   },
   "source": [
    "<figure style=\"display: table; margin: 0 auto\">\n",
    "  <center>\n",
    "    <img src=\"images/bert2.jpg\" width=\"1200vmin\" style=\"padding: 4vmin 0 0 0\">\n",
    "  </center>\n",
    "</figure>"
   ]
  },
  {
   "cell_type": "markdown",
   "id": "a3ee7359",
   "metadata": {
    "slideshow": {
     "slide_type": "slide"
    }
   },
   "source": [
    "<figure style=\"display: table; margin: 0 auto\">\n",
    "  <center>\n",
    "    <img src=\"images/bert.png\" width=\"1000vmin\" style=\"padding: 4vmin 0 0 0\">\n",
    "  </center>\n",
    "</figure>\n"
   ]
  },
  {
   "cell_type": "markdown",
   "id": "fa3c16d2",
   "metadata": {
    "slideshow": {
     "slide_type": "slide"
    }
   },
   "source": [
    "## Install\n",
    "\n",
    "```bash\n",
    "pip install bert-serving-server  # server\n",
    "pip install bert-serving-client  # client, independent of `bert-serving-server`\n",
    "```"
   ]
  },
  {
   "cell_type": "code",
   "execution_count": 32,
   "id": "52893165",
   "metadata": {
    "slideshow": {
     "slide_type": "slide"
    }
   },
   "outputs": [
    {
     "data": {
      "text/plain": [
       "(3, 768)"
      ]
     },
     "execution_count": 32,
     "metadata": {},
     "output_type": "execute_result"
    }
   ],
   "source": [
    "from bert_serving.client import BertClient\n",
    "bc = BertClient()\n",
    "results = bc.encode(['Lion is the king of the jungle',\n",
    "    'The tiger hunts in this forest',\n",
    "    'Everybody loves New York'])\n",
    "results.shape"
   ]
  },
  {
   "cell_type": "code",
   "execution_count": 33,
   "id": "58799ad7",
   "metadata": {
    "slideshow": {
     "slide_type": "fragment"
    }
   },
   "outputs": [
    {
     "data": {
      "text/plain": [
       "array([-2.99697369e-01,  1.81203470e-01, -7.88563862e-02, -3.74043509e-02,\n",
       "        2.93722898e-01, -1.73312157e-01,  5.11504054e-01,  7.68373311e-01,\n",
       "       -9.06428754e-01, -9.55983847e-02,  1.65843904e-01, -1.93865895e-01,\n",
       "        6.25361353e-02,  1.34081438e-01, -5.44078588e-01,  1.73536643e-01,\n",
       "       -1.31333902e-01,  3.50187451e-01,  5.98205440e-03,  8.96382406e-02,\n",
       "       -2.00108364e-01, -2.36445114e-01, -3.51080060e-01, -2.88707376e-01,\n",
       "        4.70682412e-01,  4.76228714e-01, -2.08968651e-02,  7.47544348e-01,\n",
       "        1.91621125e-01,  2.32562140e-01,  4.80217002e-02,  5.57126880e-01,\n",
       "        1.64404139e-01,  2.21324056e-01, -7.78836787e-01, -4.45689350e-01,\n",
       "       -7.08792880e-02, -1.73808202e-01, -2.03022033e-01,  8.56973946e-01,\n",
       "       -1.80435032e-01, -3.09874237e-01,  5.00707865e-01, -3.94362986e-01,\n",
       "       -6.66409582e-02, -5.92953563e-01, -2.22736910e-01, -4.05069500e-01,\n",
       "        4.83918041e-01, -3.81195098e-01, -2.34925807e-01,  1.20727114e-01,\n",
       "       -1.08387136e+00, -5.95212400e-01,  2.00681210e-01,  7.62941122e-01,\n",
       "       -1.00168232e-02,  1.64156079e-01, -1.01972573e-01, -1.87262297e-01,\n",
       "       -5.86668849e-01, -3.98260206e-01,  4.41284647e-04, -1.62193120e-01,\n",
       "       -5.80875039e-01,  5.08507013e-01,  1.95470586e-01,  1.09036826e-01,\n",
       "       -2.41277486e-01,  4.87855554e-01, -2.13364527e-01,  5.77982664e-01,\n",
       "       -2.58137316e-01,  4.64592516e-01, -9.03308392e-02, -1.45198777e-01,\n",
       "       -3.78945291e-01,  9.24670249e-02, -3.58858258e-02, -2.05465034e-01,\n",
       "       -1.65265024e-01,  3.38292509e-01,  9.43948552e-02,  3.32993418e-01,\n",
       "        1.28712738e-02, -2.99632698e-01,  4.94095206e-01, -2.32376694e-03,\n",
       "       -1.01630703e-01,  1.61298692e-01,  9.12850052e-02, -1.56256348e-01,\n",
       "       -5.18831074e-01, -1.83249399e-01,  1.62056312e-01, -4.23986703e-01,\n",
       "       -3.69935513e-01, -2.77227253e-01,  3.37500304e-01, -1.84110895e-01,\n",
       "       -4.96447720e-02, -4.63343769e-01,  3.10223699e-01,  3.89460832e-01,\n",
       "       -9.90604460e-02, -1.62133262e-01, -7.63335899e-02,  8.08674991e-01,\n",
       "       -3.62293869e-02, -5.85590675e-02,  7.64297098e-02, -9.30760615e-03,\n",
       "        1.17889404e-01,  4.22222093e-02,  2.51300752e-01,  7.37853706e-01,\n",
       "       -2.11372301e-01, -5.00967860e-01, -3.73586684e-01, -2.24290192e-01,\n",
       "        9.03843343e-02, -3.17134172e-01, -4.80404854e-01,  4.04851258e-01,\n",
       "       -1.11399293e-01, -8.41037482e-02, -5.13878703e-01, -2.90998280e-01,\n",
       "        4.34885502e-01, -1.10849030e-01,  8.64489317e-01, -4.76946272e-02,\n",
       "       -4.70767170e-01, -3.78731132e-01,  1.26656950e-01,  5.59945285e-01,\n",
       "        9.14670676e-02, -3.32164228e-01, -8.53287339e-01, -1.96920201e-01,\n",
       "       -3.87038976e-01, -1.30127743e-01,  1.36807263e-01,  1.52935833e-01,\n",
       "        6.86321437e-01, -2.18964800e-01, -3.49135160e-01, -2.89423734e-01,\n",
       "        9.67445076e-02, -6.30552694e-02, -1.94350421e-01,  1.19782157e-01,\n",
       "       -3.35729897e-01,  5.43818809e-02, -5.01324177e-01, -1.67914808e-01,\n",
       "       -3.02539080e-01,  2.25738600e-01,  9.77232978e-02,  2.28773594e-01,\n",
       "       -3.28831553e-01, -3.66727054e-01, -2.16618240e-01, -4.16106358e-02,\n",
       "        3.08232844e-01, -4.06280071e-01,  1.20563954e-01,  7.62439892e-02,\n",
       "       -6.86214089e-01, -2.54763067e-01,  2.38069192e-01,  1.23638004e-01,\n",
       "        1.31768718e-01,  1.54310748e-01, -4.49621491e-02,  2.05501810e-01,\n",
       "       -3.52335460e-02, -4.75072265e-02, -2.70939946e-01,  4.18218464e-01,\n",
       "       -6.16727591e-01,  6.04822822e-02, -4.06716168e-01,  3.88998806e-01,\n",
       "        2.91394353e-01,  5.83231188e-02,  5.22612691e-01, -3.80642772e-01,\n",
       "        3.07696313e-01, -3.68012100e-01,  3.09358209e-01,  6.05144680e-01,\n",
       "       -2.73498386e-01,  1.82170540e-01,  2.51034021e-01, -1.81063578e-01,\n",
       "       -2.23826855e-01, -1.49211264e+00,  2.13473756e-02, -4.53910902e-02,\n",
       "        8.93321484e-02, -1.76316842e-01,  5.88507056e-02, -1.31324911e-02,\n",
       "       -2.76575685e-01,  6.92690611e-01, -6.28843546e-01, -3.98642011e-02,\n",
       "        7.06703439e-02,  2.45767087e-01, -1.76368296e-01,  2.69481093e-01,\n",
       "       -1.98878706e-01, -4.76299495e-01,  1.81630805e-01,  1.12529129e-01,\n",
       "        1.05148457e-01, -3.57484609e-01,  2.36711606e-01,  7.06562633e-03,\n",
       "        2.01016024e-01, -2.11717397e-01, -6.76158309e-01, -1.14534376e-02,\n",
       "        5.65214157e-02,  1.09061992e+00,  6.35405898e-01, -9.02450442e-01,\n",
       "        3.02913904e-01,  2.91044295e-01, -1.11766711e-01,  1.67345311e-02,\n",
       "       -1.35406330e-01, -6.49352074e-02, -4.18499559e-01, -6.47658467e-01,\n",
       "        3.05599302e-01, -3.08391124e-01, -1.42625012e-02,  1.65169328e-01,\n",
       "       -2.32537746e-01, -6.91211820e-02,  7.11611092e-01,  4.14469391e-02,\n",
       "        7.77802646e-01,  3.08302581e-01,  1.47299603e-01, -4.47595388e-01,\n",
       "       -4.95252013e-01, -4.19973917e-02,  5.78730345e-01, -7.67243624e-01,\n",
       "        1.57820910e-01, -3.17565084e-01, -2.43677586e-01, -5.81679285e-01,\n",
       "       -3.97349209e-01, -3.58415581e-02, -3.18925492e-02, -2.62013078e-01,\n",
       "        1.98880464e-01, -3.91846091e-01, -4.32647439e-03, -3.75934720e-01,\n",
       "       -2.03274563e-02,  5.75289801e-02, -7.69846216e-02,  2.92065203e-01,\n",
       "        4.25531119e-01, -3.76894414e-01, -2.71645367e-01, -1.52843609e-01,\n",
       "        2.80227631e-01, -2.77486406e-02,  4.10175145e-01, -2.92993546e-01,\n",
       "        3.87399718e-02, -4.58627082e-02,  4.76796359e-01, -5.13980985e-01,\n",
       "        6.53062522e-01,  5.81502020e-01, -2.69139796e-01, -4.62792255e-02,\n",
       "        7.91116133e-02, -3.56388032e-01,  5.57282448e-01, -2.40763739e-01,\n",
       "        1.93231955e-01, -3.38072889e-02, -1.50578499e-01,  2.16511175e-01,\n",
       "        2.55379882e-02, -1.62297547e-01,  1.64779365e-01,  3.91600013e-01,\n",
       "       -2.60061622e-01,  5.25894344e-01,  4.93963718e-01, -1.09472704e+00,\n",
       "        7.51538873e-02, -2.71114528e-01, -5.27094066e-01, -6.93185208e-03,\n",
       "        6.08563185e-01,  1.40442923e-01, -1.75555989e-01,  2.75839686e-01,\n",
       "       -9.30286407e+00, -4.71222252e-01,  1.87939838e-01,  1.23837143e-01,\n",
       "       -6.44935369e-02, -3.58780682e-01,  2.74035968e-02, -1.58860087e-01,\n",
       "       -1.72705784e-01, -2.34517828e-02, -6.06225669e-01, -4.68699455e-01,\n",
       "        5.27095556e-01, -2.98945069e-01,  1.60677269e-01, -4.90129620e-01,\n",
       "       -1.34720266e-01, -2.24439070e-01, -4.54197764e-01,  3.37813646e-01,\n",
       "        2.23714590e-01, -3.11924487e-01,  1.00656509e-01, -6.78542852e-01,\n",
       "       -5.61410859e-02,  5.20015538e-01, -1.76899448e-01, -3.00965309e-02,\n",
       "       -3.36224735e-01, -5.77311665e-02, -3.74306262e-01, -4.10136074e-01,\n",
       "        5.82310371e-02, -8.55107699e-03, -4.90318358e-01,  2.33174324e-01,\n",
       "        4.42698039e-02,  7.90337995e-02,  4.87738669e-01,  5.83326161e-01,\n",
       "        5.60967177e-02, -7.80784070e-01,  2.98073322e-01,  6.47633314e-01,\n",
       "        6.86233759e-01, -7.90976956e-02, -5.95228262e-02, -3.75237107e-01,\n",
       "        1.08970366e-01,  1.57735825e-01,  1.41388709e-02, -6.02843344e-01,\n",
       "        3.36214416e-02, -8.79367113e-01,  4.40228611e-01,  1.04615383e-01,\n",
       "        3.60018611e-01,  6.44425213e-01, -1.70810089e-01, -7.05716848e-01,\n",
       "        4.41956908e-01, -8.38676691e-02, -9.23358202e-01,  9.10255089e-02,\n",
       "        4.30712491e-01,  1.66799337e-01, -7.02263927e-03, -3.84811163e-01,\n",
       "       -2.90484846e-01,  2.51319170e-01, -5.26212715e-02, -8.99170816e-04,\n",
       "        1.08387977e-01, -1.75718689e+00, -8.67617309e-01,  1.38844311e-01,\n",
       "       -2.92366803e-01,  5.94978154e-01,  2.04980746e-01, -2.51185894e-01,\n",
       "       -5.56983411e-01, -3.17041039e-01, -5.76272868e-02, -1.40897855e-01,\n",
       "       -6.25191510e-01, -2.60162503e-01, -6.10269189e-01,  2.42125541e-01,\n",
       "       -2.08087385e-01, -3.60336970e-04,  2.61464953e-01,  1.10459346e-02,\n",
       "       -6.71191394e-01,  4.44385409e-01,  4.00466651e-01, -2.53532052e-01,\n",
       "        1.72678903e-01, -6.11333966e-01,  1.96579605e-01,  8.34079087e-02,\n",
       "        4.79222417e-01,  2.15179846e-02,  1.11039460e-01,  2.24001437e-01,\n",
       "        1.29085407e-01,  7.76514485e-02,  3.32778096e-02, -2.55072385e-01,\n",
       "       -1.96031019e-01,  5.50465703e-01,  2.05546826e-01, -9.24499393e-01,\n",
       "       -1.82074562e-01,  4.92874891e-01,  8.03423747e-02,  5.34325659e-01,\n",
       "        8.18728283e-02,  8.80328059e-01,  1.31139737e-02,  1.44525275e-01,\n",
       "       -5.40318727e-01,  4.78069574e-01,  5.67126274e-02, -6.23211622e-01,\n",
       "        8.82953703e-02, -8.60003009e-03, -4.60155696e-01, -4.70443606e-01,\n",
       "       -1.39641434e-01, -9.05777887e-02, -1.00475872e+00, -8.69535096e-03,\n",
       "        2.31786788e-01, -9.10495296e-02, -1.14152245e-01,  5.06229222e-01,\n",
       "       -2.13811710e-01, -6.79911792e-01, -3.06616843e-01, -9.68967974e-02,\n",
       "       -1.40973628e-01,  2.58397460e-01,  7.00450182e-01,  3.85996431e-01,\n",
       "       -5.22298038e-01, -5.28520823e-01,  2.44639233e-01, -2.21202865e-01,\n",
       "        2.13871479e-01,  6.09188259e-01,  1.07550345e-01, -4.61725235e-01,\n",
       "        1.27168870e+00, -3.91735047e-01, -6.85529560e-02, -7.58229017e-01,\n",
       "       -7.69454567e-03, -3.93652231e-01, -1.42579868e-01, -5.96650392e-02,\n",
       "       -1.30515307e-01,  5.10253087e-02,  7.16425059e-03,  4.08414364e-01,\n",
       "       -1.73722699e-01,  1.31539598e-01,  2.34195739e-01, -3.03097278e-01,\n",
       "       -2.19251122e-03, -5.77389379e-04, -1.76717922e-01, -2.16460690e-01,\n",
       "       -4.52402532e-01,  1.23175636e-01, -3.87022853e-01,  3.25165391e-01,\n",
       "        3.34854424e-02, -2.45137117e-03, -1.82362139e-01,  9.80516851e-01,\n",
       "       -1.67596728e-01,  2.80025572e-01, -2.54399270e-01, -2.60488391e-01,\n",
       "       -1.26352077e-02,  1.48932859e-01,  2.18121320e-01, -3.60684484e-01,\n",
       "        8.21267162e-03,  5.80767751e-01, -2.58836359e-01,  6.28322899e-01,\n",
       "       -3.99120361e-01, -4.64700848e-01, -4.76376593e-01,  2.00054690e-01,\n",
       "        3.63604464e-02,  1.35843635e-01,  7.62386978e-01,  7.45036379e-02,\n",
       "       -3.67987752e-01, -3.88992578e-02,  6.54527724e-01,  3.76020879e-01,\n",
       "       -4.38945979e-01,  8.94831941e-02,  1.16889514e-01,  3.28908294e-01,\n",
       "       -5.60420156e-02,  8.89993738e-03, -4.76281285e-01, -7.18600333e-01,\n",
       "       -9.11461562e-02, -2.50007153e-01, -2.17748657e-01,  8.30991045e-02,\n",
       "       -1.58482283e-01, -2.23971054e-01, -6.32127345e-01, -1.16164483e-01,\n",
       "       -2.04919688e-02, -1.86076716e-01, -1.92294732e-01,  1.06002614e-01,\n",
       "       -1.50903642e-01, -1.57962695e-01,  5.34130275e-01,  1.52856514e-01,\n",
       "        1.72467783e-01, -6.16806388e-01, -2.64048576e-01, -2.66355574e-01,\n",
       "       -7.46074617e-02, -2.60160983e-01, -3.57334375e-01,  5.71709454e-01,\n",
       "        7.37156212e-01, -1.74355298e-01, -8.49371403e-02, -4.46481779e-02,\n",
       "        9.97343585e-02, -2.66615212e-01, -1.89406097e-01, -1.43504977e-01,\n",
       "        1.75469704e-02,  4.25504714e-01, -6.15515530e-01,  1.62970737e-01,\n",
       "       -4.02781777e-02, -4.24980372e-01,  3.10667455e-01,  2.68768936e-01,\n",
       "        3.26990098e-01, -5.51259965e-02,  4.66328472e-01, -1.67090550e-01,\n",
       "        1.16140179e-01,  7.04062700e-01,  4.30809140e-01, -7.10034594e-02,\n",
       "       -1.94305658e-01,  7.74935484e-02,  4.36614901e-02,  3.16779017e-01,\n",
       "       -1.54022753e-01, -4.16712344e-01, -2.61260867e-01,  4.50620055e-01,\n",
       "        1.72071904e-02,  3.23307037e-01, -3.46548975e-01, -5.60314417e-01,\n",
       "        3.77680480e-01, -3.34236681e-01,  1.84531555e-01, -1.57703325e-01,\n",
       "       -7.07766354e-01, -7.03255832e-02, -1.20030642e-01, -5.93019575e-02,\n",
       "       -6.00382239e-02,  3.51107746e-01,  1.61147431e-01, -6.67259023e-02,\n",
       "       -2.53794819e-01, -1.63127556e-01, -5.61766885e-02,  4.47659761e-01,\n",
       "        2.24034101e-01,  3.16015661e-01,  2.12665707e-01, -3.79352927e-01,\n",
       "        4.11229879e-01,  2.16855742e-02,  4.59315419e-01,  2.51069188e-01,\n",
       "        3.36631894e-01, -1.17983185e-01,  1.47975281e-01, -1.96341768e-01,\n",
       "       -2.85180241e-01,  1.51004381e-02,  3.46080333e-01, -1.52275115e-01,\n",
       "       -1.39951050e-01,  2.64061451e-01, -4.91806179e-01, -1.71821177e-01,\n",
       "       -2.06804991e-01,  2.00185299e-01, -2.00534075e-01, -2.34292135e-01,\n",
       "        3.38910669e-01,  7.04429924e-01,  2.21781880e-01,  1.58824474e-01,\n",
       "       -1.98460788e-01, -5.70645928e-02, -4.37086433e-01,  3.92372370e-01,\n",
       "       -4.74032462e-01, -1.22722335e-01,  2.72225022e-01, -1.94122761e-01,\n",
       "        3.60910058e-01,  7.15728521e-01, -6.85579538e-01, -2.91945279e-01,\n",
       "       -3.48312616e-01,  1.79796949e-01, -2.99043268e-01,  2.07174569e-01,\n",
       "       -3.73392999e-01,  1.08059242e-01, -9.52145159e-02, -5.63394688e-02,\n",
       "        2.04940379e-01,  5.90480030e-01,  3.38026762e-01,  3.75703365e-01,\n",
       "        2.84374833e-01, -3.89994204e-01, -6.52239561e-01,  9.20394599e-01,\n",
       "        3.12113851e-01, -9.93992463e-02, -5.13189375e-01, -2.13016406e-01,\n",
       "        5.25792122e-01,  5.75446010e-01,  1.14673458e-01,  5.13132036e-01,\n",
       "        2.06731901e-01,  4.25294302e-02,  6.21978641e-01,  1.49865985e-01,\n",
       "        2.76196837e-01,  4.42626387e-01,  4.48229104e-01,  5.50452411e-01,\n",
       "        3.46681267e-01, -1.67434797e-01,  2.93952495e-01, -3.34400356e-01,\n",
       "        8.93540904e-02,  6.68676138e-01,  1.05735742e-01, -3.03273082e-01,\n",
       "       -4.26432848e-01,  5.65970726e-02,  5.91922939e-01, -1.86945304e-01,\n",
       "        3.19780499e-01, -2.42598668e-01,  3.65720183e-01,  1.58898413e-01,\n",
       "       -2.84288347e-01, -7.00641870e-01, -2.63690464e-02, -5.73275685e-02,\n",
       "       -1.30926102e-01,  4.97885585e-01, -3.38295221e-01, -1.59135193e-01,\n",
       "        1.64655387e-01, -1.27954349e-01, -2.88124740e-01, -5.59625216e-02,\n",
       "       -2.44894713e-01, -6.15967847e-02, -2.25504339e-01,  5.28759241e-01,\n",
       "        4.57615852e-01,  1.26908040e-02,  8.00626218e-01, -2.12961733e-01,\n",
       "       -1.95439577e-01,  4.20316100e-01, -2.12966889e-01, -2.55970240e-01,\n",
       "        8.10431421e-01, -3.37112963e-01, -4.23957020e-01, -2.93940574e-01,\n",
       "        1.58735737e-01, -3.34665567e-01, -2.91292578e-01,  2.91638315e-01,\n",
       "        5.64618520e-02, -1.48032129e-01, -1.00290298e-01,  3.85001779e-01,\n",
       "       -9.84129235e-02,  2.50177365e-02, -7.03154877e-02,  1.26503199e-01,\n",
       "       -8.31089262e-03, -6.15690425e-02, -5.03778100e-01, -6.43320560e-01,\n",
       "       -3.70945185e-01, -5.33680201e-01, -2.38475636e-01,  4.00799155e-01,\n",
       "        7.40119815e-02, -7.40986526e-01,  1.45180494e-01,  5.19766390e-01,\n",
       "       -5.93111396e-01, -5.53546511e-02, -6.03317879e-02, -2.19235234e-02,\n",
       "        6.91534281e-02, -1.76523522e-01, -3.55705440e-01, -1.78178594e-01,\n",
       "       -1.23902149e-01,  1.95794269e-01, -1.65002584e-01, -4.77296352e-01,\n",
       "       -2.57936180e-01,  5.70375502e-01,  1.39483595e+00,  3.39257509e-01,\n",
       "        1.71550468e-01, -5.33354461e-01, -3.30245525e-01,  1.59156770e-01,\n",
       "        2.35708341e-01, -1.10612951e-01, -2.20617995e-01, -2.86161210e-02,\n",
       "        3.07622284e-01,  2.25955155e-03, -5.03074974e-02,  4.80322778e-01,\n",
       "       -4.30416204e-02, -2.95811057e-01,  4.42626148e-01, -3.56074631e-01],\n",
       "      dtype=float32)"
      ]
     },
     "execution_count": 33,
     "metadata": {},
     "output_type": "execute_result"
    }
   ],
   "source": [
    "results[0]"
   ]
  },
  {
   "cell_type": "code",
   "execution_count": 34,
   "id": "6dc0f860",
   "metadata": {},
   "outputs": [
    {
     "name": "stdout",
     "output_type": "stream",
     "text": [
      "0.18777914\n",
      "0.13391979\n",
      "0.12317724\n"
     ]
    }
   ],
   "source": [
    "print(np.mean(results[0] * results[1]))\n",
    "print(np.mean(results[0] * results[2]))\n",
    "print(np.mean(results[1] * results[2]))"
   ]
  },
  {
   "cell_type": "code",
   "execution_count": 36,
   "id": "17aeaaad",
   "metadata": {},
   "outputs": [],
   "source": [
    "import pickle\n",
    "\n",
    "with open('encodings.pickle', 'rb') as f:\n",
    "  member_encodings, request_encodings = pickle.loads(f.read())"
   ]
  },
  {
   "cell_type": "code",
   "execution_count": null,
   "id": "f9f730d0",
   "metadata": {},
   "outputs": [],
   "source": [
    "X = []\n",
    "for match in matches:\n",
    "    X.append(member_encodings[match['member_id']] * \\\n",
    "        request_encodings[match['request_id']])\n",
    "\n",
    "X = np.array(X)\n",
    "\n",
    "\n",
    "X_train, X_test, y_train, y_test, _, bp_test = \\\n",
    "    train_test_split(X, y, baseline_pred, test_size=1000)\n"
   ]
  },
  {
   "cell_type": "code",
   "execution_count": 9,
   "id": "a22dd32d",
   "metadata": {
    "slideshow": {
     "slide_type": "fragment"
    }
   },
   "outputs": [
    {
     "data": {
      "text/plain": [
       "0.3396911667597907"
      ]
     },
     "execution_count": 9,
     "metadata": {},
     "output_type": "execute_result"
    }
   ],
   "source": [
    "import numpy as np\n",
    "\n",
    "y = np.array(y)\n",
    "baseline_predictions = np.array(baseline_predictions)\n",
    "\n",
    "sum(baseline_predictions == y) / len(y)"
   ]
  },
  {
   "cell_type": "markdown",
   "id": "a00c1eae",
   "metadata": {
    "slideshow": {
     "slide_type": "slide"
    }
   },
   "source": [
    "<figure style=\"display: table; margin: 0 auto\">\n",
    "  <center>\n",
    "    <img src=\"images/acc.png\" width=\"700vmin\" style=\"padding: 4vmin 0 0 0\">\n",
    "  </center>\n",
    "</figure>"
   ]
  },
  {
   "cell_type": "markdown",
   "id": "4f78fdd0",
   "metadata": {
    "slideshow": {
     "slide_type": "notes"
    }
   },
   "source": [
    "is this a good score or a bad score?\n",
    "\n",
    "if doing pedestrian detection for autonomous driving, probably a bad score\n",
    "\n",
    "but if you search for something on google and 3 of the first 10 results are what you were looking for, then it's probably a good score\n",
    "\n",
    "in our case, we can ask for feedback from the moderators, since they're the ones that see these results\n",
    "\n",
    "apart from that, for us this is just a number out of context\n",
    "\n",
    "speaking of context, does anybody feel we might be missing something here?\n",
    "\n",
    "this formula for accuracy is the general one; for binary classification we have the equivalent, but slightly more detailed:"
   ]
  },
  {
   "cell_type": "markdown",
   "id": "79cc70a9",
   "metadata": {
    "slideshow": {
     "slide_type": "slide"
    }
   },
   "source": [
    "<figure style=\"display: table; margin: 0 auto\">\n",
    "  <center>\n",
    "    <img src=\"images/acc2.png\" width=\"700vmin\" style=\"padding: 4vmin 0 0 0\">\n",
    "  </center>\n",
    "</figure>\n",
    "\n",
    "<figure style=\"display: table; margin: 0 auto\">\n",
    "  <center>\n",
    "    <img src=\"images/confusion-matrix.png\" width=\"800vmin\" style=\"padding: 4vmin 0 0 0\">\n",
    "  </center>\n",
    "</figure>"
   ]
  },
  {
   "cell_type": "markdown",
   "id": "68e9b038",
   "metadata": {
    "slideshow": {
     "slide_type": "notes"
    }
   },
   "source": [
    "did anybody figure out where i'm going with this?"
   ]
  },
  {
   "cell_type": "markdown",
   "id": "936d3c27",
   "metadata": {
    "slideshow": {
     "slide_type": "slide"
    }
   },
   "source": [
    "<figure style=\"display: table; margin: 0 auto\">\n",
    "  <center>\n",
    "    <img src=\"images/acc2.png\" width=\"700vmin\" style=\"padding: 4vmin 0 0 0\">\n",
    "  </center>\n",
    "</figure>\n",
    "\n",
    "<figure style=\"display: table; margin: 0 auto\">\n",
    "  <center>\n",
    "    <img src=\"images/confusion-matrix2.png\" width=\"800vmin\" style=\"padding: 4vmin 0 0 0\">\n",
    "  </center>\n",
    "</figure>"
   ]
  },
  {
   "cell_type": "markdown",
   "id": "b81ef1af",
   "metadata": {
    "slideshow": {
     "slide_type": "notes"
    }
   },
   "source": [
    "so it seems like we have no true negatives in our dataset\n",
    "\n",
    "let's say we have 100 members and the algorithm only returns 5 matches; let's say the moderator adds another 5 members to the results; the remaining 90 members are the true negatives; both the algorithm and the human moderator haven't selected them; but they are not in our dataset\n",
    "\n",
    "we need to add true negative to our dataset:\n",
    "- for a better understanding of our algorithm's performance\n",
    "- for training a ML model\n",
    "\n"
   ]
  },
  {
   "cell_type": "code",
   "execution_count": null,
   "id": "46a05658",
   "metadata": {
    "slideshow": {
     "slide_type": "slide"
    }
   },
   "outputs": [],
   "source": [
    "EXTEND_COUNT = 40000\n",
    "# list of dictionaries {'member_id': int, 'request_id': int}\n",
    "true_negatives = []\n",
    "\n",
    "# generate 40000 random new matches ...\n",
    "\n",
    "\n",
    "# ... such that these tests pass\n",
    "assert len(true_negatives) == EXTEND_COUNT\n",
    "true_negatives_set = {(tn['member_id'], tn['request_id']) for tn in true_negatives}\n",
    "assert true_negatives_set == EXTEND_COUNT\n",
    "\n",
    "old_matches_set = {(d['member_id'], d['request_id']) for d in matches}\n",
    "member_ids_set = {{d['member_id'] for d in matches}}\n",
    "request_ids_set = {{d['request_id'] for d in matches}}\n",
    "\n",
    "assert len(true_negatives_set.difference(old_matches_set)) == EXTEND_COUNT\n",
    "for tn in true_negatives:\n",
    "    assert tn['member_id'] in member_ids_set\n",
    "    assert tn['request_id'] in request_ids_set"
   ]
  },
  {
   "cell_type": "code",
   "execution_count": 16,
   "id": "eff3495a",
   "metadata": {
    "slideshow": {
     "slide_type": "slide"
    }
   },
   "outputs": [],
   "source": [
    "EXTEND_COUNT = 40000\n",
    "# list of dictionaries {'member_id': int, 'request_id': int}\n",
    "true_negatives = []\n",
    "\n",
    "# generate 40000 random new matches ...\n",
    "import random\n",
    "\n",
    "member_ids = list({d['member_id'] for d in matches})\n",
    "request_ids = list({d['request_id'] for d in matches})\n",
    "all_matches_set = {(d['member_id'], d['request_id']) for d in matches}\n",
    "\n",
    "while True:\n",
    "  member_id = member_ids[random.randint(0, len(member_ids) - 1)]\n",
    "  request_id = request_ids[random.randint(0, len(request_ids) - 1)]\n",
    "  if (member_id, request_id) in all_matches_set:\n",
    "    continue\n",
    "  true_negatives.append({\n",
    "      'member_id': member_id,\n",
    "      'request_id': request_id,\n",
    "  })\n",
    "  all_matches_set.add((member_id, request_id))\n",
    "\n",
    "  if len(true_negatives) == EXTEND_COUNT:\n",
    "    break\n",
    "\n",
    "# ... such that these tests pass\n",
    "assert len(true_negatives) == EXTEND_COUNT\n",
    "true_negatives_set = {(tn['member_id'], tn['request_id']) for tn in true_negatives}\n",
    "assert len(true_negatives_set) == EXTEND_COUNT\n",
    "\n",
    "old_matches_set = {(d['member_id'], d['request_id']) for d in matches}\n",
    "member_ids_set = {d['member_id'] for d in matches}\n",
    "request_ids_set = {d['request_id'] for d in matches}\n",
    "\n",
    "assert len(true_negatives_set.difference(old_matches_set)) == EXTEND_COUNT\n",
    "for tn in true_negatives:\n",
    "    assert tn['member_id'] in member_ids_set\n",
    "    assert tn['request_id'] in request_ids_set"
   ]
  },
  {
   "cell_type": "code",
   "execution_count": 13,
   "id": "f51e691f",
   "metadata": {
    "slideshow": {
     "slide_type": "slide"
    }
   },
   "outputs": [
    {
     "data": {
      "text/plain": [
       "40000"
      ]
     },
     "execution_count": 13,
     "metadata": {},
     "output_type": "execute_result"
    }
   ],
   "source": [
    "extended_matches = matches + true_negatives\n",
    "\n",
    "# update y and baseline_predictions with the new true negatives...\n",
    "\n",
    "\n",
    "# .. so that the asserts pass\n",
    "assert len(y) == len(baseline_predictions) == len(extended_matches)\n",
    "assert sum(y) == 15739\n",
    "assert sum(baseline_predictions) == 37010"
   ]
  },
  {
   "cell_type": "code",
   "execution_count": 17,
   "id": "de8eb046",
   "metadata": {
    "slideshow": {
     "slide_type": "slide"
    }
   },
   "outputs": [],
   "source": [
    "extended_matches = matches + true_negatives\n",
    "\n",
    "# update y and baseline_predictions with the new true negatives...\n",
    "y = np.append(y, [0] * EXTEND_COUNT)\n",
    "baseline_predictions = np.append(baseline_predictions, [0] * EXTEND_COUNT)\n",
    "\n",
    "# .. so that the asserts pass\n",
    "assert len(y) == len(baseline_predictions) == len(extended_matches)\n",
    "assert sum(y) == 15739\n",
    "assert sum(baseline_predictions) == 37010"
   ]
  }
 ],
 "metadata": {
  "celltoolbar": "Slideshow",
  "kernelspec": {
   "display_name": "Python 3",
   "language": "python",
   "name": "python3"
  },
  "language_info": {
   "codemirror_mode": {
    "name": "ipython",
    "version": 3
   },
   "file_extension": ".py",
   "mimetype": "text/x-python",
   "name": "python",
   "nbconvert_exporter": "python",
   "pygments_lexer": "ipython3",
   "version": "3.6.9"
  }
 },
 "nbformat": 4,
 "nbformat_minor": 5
}
