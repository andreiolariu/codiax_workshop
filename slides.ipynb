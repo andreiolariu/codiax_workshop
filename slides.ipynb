{
 "cells": [
  {
   "cell_type": "markdown",
   "id": "1dc61d36",
   "metadata": {
    "slideshow": {
     "slide_type": "slide"
    }
   },
   "source": [
    "# Who: Andrei Olariu\n",
    "## Stone Soup Technology\n",
    "<br/>\n",
    "<br/>\n",
    "\n",
    "\n",
    "# What: Matching Journalists with Domain Experts\n",
    "## Text Classification with BERT and Gradient Boosting Trees from Idea to Production"
   ]
  },
  {
   "cell_type": "markdown",
   "id": "a954ba3b",
   "metadata": {
    "slideshow": {
     "slide_type": "slide"
    }
   },
   "source": [
    "- intro on me and StoneSoup\n",
    "\n",
    "- describing the client and his problem\n",
    "\n",
    "- baseline approach\n",
    "\n",
    "- Machine Learning approach\n",
    "\n",
    "- discussion"
   ]
  },
  {
   "cell_type": "markdown",
   "id": "b4a41beb",
   "metadata": {
    "slideshow": {
     "slide_type": "slide"
    }
   },
   "source": [
    "<figure style=\"display: table; margin: 0 auto\">\n",
    "  <center>\n",
    "    <img src=\"images/sst.png\" width=\"800vmin\" style=\"padding: 0 0 0 0\">\n",
    "  </center>\n",
    "</figure>"
   ]
  },
  {
   "cell_type": "markdown",
   "id": "bbe72eb5",
   "metadata": {
    "slideshow": {
     "slide_type": "slide"
    }
   },
   "source": [
    "<figure style=\"display: table; margin: 0 auto\">\n",
    "  <center>\n",
    "    <img src=\"images/andrei.jpg\" width=\"1200vmin\" style=\"padding: 4vmin 0 0 0\">\n",
    "  </center>\n",
    "</figure>"
   ]
  },
  {
   "cell_type": "markdown",
   "id": "8d331126",
   "metadata": {
    "slideshow": {
     "slide_type": "notes"
    }
   },
   "source": [
    "that's me during the pandemic\n",
    "\n",
    "phd in natural language processing\n",
    "\n",
    "3 top 10 finishes in kaggle contests\n",
    "\n",
    "at sst, involved in backend, api and ml work"
   ]
  },
  {
   "cell_type": "markdown",
   "id": "8941c38a",
   "metadata": {
    "slideshow": {
     "slide_type": "slide"
    }
   },
   "source": [
    " "
   ]
  },
  {
   "cell_type": "markdown",
   "id": "f55b50b8",
   "metadata": {
    "slideshow": {
     "slide_type": "notes"
    }
   },
   "source": [
    "now you have more context on me and the company I work at\n",
    "\n",
    "unfortunately, I don't know a lot about you, so I had to prepare this workshop making some assumptions\n",
    "\n",
    "if you have experience with something and you find some things trivial, then just breath in, breath out, enjoy the moment and bask in your awesomeness\n",
    "\n",
    "don't wait till the end for questions"
   ]
  },
  {
   "cell_type": "markdown",
   "id": "0a5a015b",
   "metadata": {
    "slideshow": {
     "slide_type": "fragment"
    }
   },
   "source": [
    "# Assumptions\n",
    "\n",
    "- no/little knowledge of Python\n",
    "- no/little experience building and deploying Machine Learning models\n",
    "\n",
    "# Feel free to interrupt me and ask questions"
   ]
  },
  {
   "cell_type": "markdown",
   "id": "63afaf41",
   "metadata": {
    "slideshow": {
     "slide_type": "slide"
    }
   },
   "source": [
    "<figure style=\"display: table; margin: 0 auto\">\n",
    "  <center>\n",
    "    <img src=\"images/guidedpr.png\" width=\"1200vmin\" style=\"padding: 4vmin 0 0 0\">\n",
    "  </center>\n",
    "</figure>"
   ]
  },
  {
   "cell_type": "markdown",
   "id": "3270f3e0",
   "metadata": {
    "slideshow": {
     "slide_type": "slide"
    }
   },
   "source": [
    "We have a database of members, with a short description for each\n",
    "\n",
    "<figure style=\"display: table; margin: 0 auto\">\n",
    "  <center>\n",
    "    <img src=\"images/brad.png\" width=\"1200vmin\" style=\"padding: 4vmin 0 0 0\">\n",
    "  </center>\n",
    "</figure>"
   ]
  },
  {
   "cell_type": "markdown",
   "id": "25de7125",
   "metadata": {
    "slideshow": {
     "slide_type": "slide"
    }
   },
   "source": [
    "We have new requests coming in from journalists and we want to identify the best matching members\n",
    "\n",
    "<figure style=\"display: table; margin: 0 auto\">\n",
    "  <center>\n",
    "    <img src=\"images/request1.png\" width=\"1200vmin\" style=\"padding: 4vmin 0 0 0\">\n",
    "  </center>\n",
    "</figure>"
   ]
  },
  {
   "cell_type": "markdown",
   "id": "7bdc8c58",
   "metadata": {
    "slideshow": {
     "slide_type": "slide"
    }
   },
   "source": [
    "What do you think?\n",
    "\n",
    "How can we approach this problem?"
   ]
  },
  {
   "cell_type": "markdown",
   "id": "8849544e",
   "metadata": {
    "slideshow": {
     "slide_type": "fragment"
    }
   },
   "source": [
    "We need a baseline approach. It needs to be:\n",
    "\n",
    "- easy to implement\n",
    "\n",
    "- easy to explain/understand/debug\n",
    "\n",
    "- predictable\n",
    "\n",
    "- independent of training data"
   ]
  },
  {
   "cell_type": "markdown",
   "id": "77091b0f",
   "metadata": {
    "slideshow": {
     "slide_type": "notes"
    }
   },
   "source": [
    "Cmon, let's hear some ideas\n",
    "\n",
    "actively thinking about a solution will stimulate the creation of new neural paths inside your brain, making you better problem solvers\n",
    "\n",
    "i swear I'm not moving forward until I get another idea"
   ]
  },
  {
   "cell_type": "markdown",
   "id": "604a3143",
   "metadata": {
    "slideshow": {
     "slide_type": "slide"
    }
   },
   "source": [
    "Our baseline approach:\n",
    "\n",
    "- index the members' descriptions using a search engine (Solr)\n",
    "\n",
    "- given a request, send it to the search engine as the query and get the highest ranking members\n",
    "\n",
    "- **have a moderator review and correct the matches**\n",
    "\n",
    "- send updated matches to the journalist"
   ]
  },
  {
   "cell_type": "markdown",
   "id": "38cae3c1",
   "metadata": {
    "slideshow": {
     "slide_type": "notes"
    }
   },
   "source": [
    "notice the third step (hard not to)\n",
    "\n",
    "we don't trust the current approach - and it's right so, we haven't evaluated it\n",
    "\n",
    "we are also building a manually annotated dataset to train a ML model"
   ]
  },
  {
   "cell_type": "code",
   "execution_count": 21,
   "id": "4ddf2ab7",
   "metadata": {
    "slideshow": {
     "slide_type": "slide"
    }
   },
   "outputs": [],
   "source": [
    "import pickle\n",
    "\n",
    "with open('matches.pickle', 'rb') as f:\n",
    "    matches = pickle.loads(f.read())"
   ]
  },
  {
   "cell_type": "code",
   "execution_count": 22,
   "id": "3e2191eb",
   "metadata": {
    "slideshow": {
     "slide_type": "fragment"
    }
   },
   "outputs": [
    {
     "data": {
      "text/plain": [
       "39375"
      ]
     },
     "execution_count": 22,
     "metadata": {},
     "output_type": "execute_result"
    }
   ],
   "source": [
    "len(matches)"
   ]
  },
  {
   "cell_type": "code",
   "execution_count": 23,
   "id": "a4244665",
   "metadata": {
    "slideshow": {
     "slide_type": "fragment"
    }
   },
   "outputs": [
    {
     "data": {
      "text/plain": [
       "{'member_id': 113,\n",
       " 'request_id': 28552,\n",
       " 'mismatch': False,\n",
       " 'auto_generated': True}"
      ]
     },
     "execution_count": 23,
     "metadata": {},
     "output_type": "execute_result"
    }
   ],
   "source": [
    "matches[0]"
   ]
  },
  {
   "cell_type": "code",
   "execution_count": 24,
   "id": "d71ecf32",
   "metadata": {
    "slideshow": {
     "slide_type": "fragment"
    }
   },
   "outputs": [
    {
     "data": {
      "text/plain": [
       "{'member_id': 'Andrei',\n",
       " 'request_id': 'Codiax',\n",
       " 'mismatch': True,\n",
       " 'auto_generated': False,\n",
       " 'message': 'remove this from the matches list'}"
      ]
     },
     "execution_count": 24,
     "metadata": {},
     "output_type": "execute_result"
    }
   ],
   "source": [
    "matches[-1]"
   ]
  },
  {
   "cell_type": "code",
   "execution_count": 25,
   "id": "6920e1f5",
   "metadata": {
    "slideshow": {
     "slide_type": "fragment"
    }
   },
   "outputs": [],
   "source": [
    "matches = matches[:-1]"
   ]
  },
  {
   "cell_type": "code",
   "execution_count": 27,
   "id": "0893bb70",
   "metadata": {
    "slideshow": {
     "slide_type": "slide"
    }
   },
   "outputs": [],
   "source": [
    "y = [] # the correct labels\n",
    "baseline_predictions = []\n",
    "\n",
    "# write code here...\n",
    "\n",
    "\n",
    "# .. so that the asserts pass\n",
    "assert len(y) == len(baseline_predictions) == len(matches)\n",
    "assert sum(y) == 15739\n",
    "assert sum(baseline_predictions) == 37010"
   ]
  },
  {
   "cell_type": "code",
   "execution_count": 28,
   "id": "6e015d07",
   "metadata": {
    "slideshow": {
     "slide_type": "slide"
    }
   },
   "outputs": [],
   "source": [
    "y = [] # the correct labels\n",
    "baseline_predictions = []\n",
    "\n",
    "# write code here...\n",
    "for match in matches:\n",
    "    if match['auto_generated']:\n",
    "        baseline_predictions.append(1)\n",
    "        if match['mismatch']:\n",
    "            y.append(0)\n",
    "        else:\n",
    "            y.append(1)\n",
    "    else:\n",
    "        baseline_predictions.append(0)\n",
    "        if match['mismatch']:\n",
    "            raise Exception('this is not possible', match)\n",
    "        else:\n",
    "            y.append(1)\n",
    "\n",
    "# .. so that the asserts pass\n",
    "assert len(y) == len(baseline_predictions) == len(matches)\n",
    "assert sum(y) == 15739\n",
    "assert sum(baseline_predictions) == 37010"
   ]
  },
  {
   "cell_type": "markdown",
   "id": "8d96a0ef",
   "metadata": {
    "slideshow": {
     "slide_type": "slide"
    }
   },
   "source": [
    "<figure style=\"display: table; margin: 0 auto\">\n",
    "  <center>\n",
    "    <img src=\"images/acc.png\" width=\"700vmin\" style=\"padding: 4vmin 0 0 0\">\n",
    "  </center>\n",
    "</figure>"
   ]
  },
  {
   "cell_type": "code",
   "execution_count": 29,
   "id": "d3bdfaaf",
   "metadata": {
    "slideshow": {
     "slide_type": "fragment"
    }
   },
   "outputs": [
    {
     "data": {
      "text/plain": [
       "0.3396911667597907"
      ]
     },
     "execution_count": 29,
     "metadata": {},
     "output_type": "execute_result"
    }
   ],
   "source": [
    "import numpy as np\n",
    "\n",
    "y = np.array(y)\n",
    "baseline_predictions = np.array(baseline_predictions)\n",
    "\n",
    "sum(baseline_predictions == y) / len(y)"
   ]
  },
  {
   "cell_type": "markdown",
   "id": "5b81271a",
   "metadata": {
    "slideshow": {
     "slide_type": "notes"
    }
   },
   "source": [
    "is this a good score or a bad score?\n",
    "\n",
    "if doing pedestrian detection for autonomous driving, probably a bad score\n",
    "\n",
    "but if you search for something on google and 3 of the first 10 results are what you were looking for, then it's probably a good score\n",
    "\n",
    "in our case, we can ask for feedback from the moderators, since they're the ones that see these results\n",
    "\n",
    "apart from that, for us this is just a number out of context\n",
    "\n",
    "speaking of context, does anybody feel we might be missing something here?\n",
    "\n",
    "this formula for accuracy is the general one; for binary classification we have the equivalent, but slightly more detailed:"
   ]
  },
  {
   "cell_type": "markdown",
   "id": "8f88e101",
   "metadata": {
    "slideshow": {
     "slide_type": "slide"
    }
   },
   "source": [
    "<figure style=\"display: table; margin: 0 auto\">\n",
    "  <center>\n",
    "    <img src=\"images/acc2.png\" width=\"700vmin\" style=\"padding: 4vmin 0 0 0\">\n",
    "  </center>\n",
    "</figure>\n",
    "\n",
    "<figure style=\"display: table; margin: 0 auto\">\n",
    "  <center>\n",
    "    <img src=\"images/confusion-matrix.png\" width=\"800vmin\" style=\"padding: 4vmin 0 0 0\">\n",
    "  </center>\n",
    "</figure>"
   ]
  },
  {
   "cell_type": "markdown",
   "id": "ea2dbccf",
   "metadata": {
    "slideshow": {
     "slide_type": "notes"
    }
   },
   "source": [
    "did anybody figure out where i'm going with this?"
   ]
  },
  {
   "cell_type": "markdown",
   "id": "357ca1f5",
   "metadata": {
    "slideshow": {
     "slide_type": "slide"
    }
   },
   "source": [
    "<figure style=\"display: table; margin: 0 auto\">\n",
    "  <center>\n",
    "    <img src=\"images/acc2.png\" width=\"700vmin\" style=\"padding: 4vmin 0 0 0\">\n",
    "  </center>\n",
    "</figure>\n",
    "\n",
    "<figure style=\"display: table; margin: 0 auto\">\n",
    "  <center>\n",
    "    <img src=\"images/confusion-matrix2.png\" width=\"800vmin\" style=\"padding: 4vmin 0 0 0\">\n",
    "  </center>\n",
    "</figure>"
   ]
  },
  {
   "cell_type": "markdown",
   "id": "f57b5717",
   "metadata": {
    "slideshow": {
     "slide_type": "notes"
    }
   },
   "source": [
    "so it seems like we have no true negatives in our dataset\n",
    "\n",
    "let's say we have 100 members and the algorithm only returns 5 matches; let's say the moderator adds another 5 members to the results; the remaining 90 members are the true negatives; both the algorithm and the human moderator haven't selected them; but they are not in our dataset\n",
    "\n",
    "we need to add true negative to our dataset:\n",
    "- for a better understanding of our algorithm's performance\n",
    "- for training a ML model\n",
    "\n"
   ]
  },
  {
   "cell_type": "code",
   "execution_count": null,
   "id": "7285f779",
   "metadata": {
    "slideshow": {
     "slide_type": "slide"
    }
   },
   "outputs": [],
   "source": [
    "true_negatives = []"
   ]
  }
 ],
 "metadata": {
  "celltoolbar": "Slideshow",
  "kernelspec": {
   "display_name": "Python 3",
   "language": "python",
   "name": "python3"
  },
  "language_info": {
   "codemirror_mode": {
    "name": "ipython",
    "version": 3
   },
   "file_extension": ".py",
   "mimetype": "text/x-python",
   "name": "python",
   "nbconvert_exporter": "python",
   "pygments_lexer": "ipython3",
   "version": "3.7.5"
  }
 },
 "nbformat": 4,
 "nbformat_minor": 5
}
